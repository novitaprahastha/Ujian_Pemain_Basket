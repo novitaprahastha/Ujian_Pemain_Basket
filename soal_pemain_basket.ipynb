{
 "cells": [
  {
   "cell_type": "code",
   "execution_count": 1,
   "metadata": {},
   "outputs": [],
   "source": [
    "import numpy as np \n",
    "import pandas as pd \n",
    "import matplotlib.pyplot as plt\n",
    "import seaborn as sb\n",
    "from sklearn.linear_model import LogisticRegression\n",
    "from sklearn.datasets import load_digits\n",
    "from sklearn.model_selection import train_test_split\n",
    "from sklearn.datasets import fetch_olivetti_faces\n",
    "from sklearn.metrics import confusion_matrix\n",
    "from sklearn.metrics import plot_confusion_matrix\n",
    "from sklearn.metrics import accuracy_score\n",
    "from sklearn.metrics import recall_score\n",
    "from sklearn.metrics import precision_score\n",
    "from sklearn.metrics import balanced_accuracy_score\n",
    "from sklearn.metrics import f1_score\n",
    "from sklearn.metrics import precision_recall_fscore_support\n",
    "from sklearn.metrics import classification_report\n",
    "from sklearn.metrics import jaccard_score, jaccard_similarity_score\n",
    "from sklearn.metrics import roc_curve, roc_auc_score, auc\n",
    "from sklearn.model_selection import train_test_split\n",
    "from sklearn.preprocessing import StandardScaler\n",
    "from sklearn.decomposition import PCA\n",
    "from sklearn import tree\n",
    "from sklearn.ensemble import RandomForestClassifier\n",
    "from subprocess import call\n",
    "from sklearn.neighbors import KNeighborsClassifier\n",
    "from sklearn.neighbors import NearestNeighbors\n",
    "from sklearn import decomposition\n",
    "from sklearn.pipeline import make_pipeline\n",
    "from sklearn.model_selection import KFold, cross_val_score\n",
    "from sklearn. model_selection import RandomizedSearchCV\n",
    "from sklearn. model_selection import GridSearchCV"
   ]
  },
  {
   "cell_type": "markdown",
   "metadata": {},
   "source": [
    "# Hunting Pemain Basket"
   ]
  },
  {
   "cell_type": "code",
   "execution_count": 2,
   "metadata": {},
   "outputs": [
    {
     "data": {
      "text/html": [
       "<div>\n",
       "<style scoped>\n",
       "    .dataframe tbody tr th:only-of-type {\n",
       "        vertical-align: middle;\n",
       "    }\n",
       "\n",
       "    .dataframe tbody tr th {\n",
       "        vertical-align: top;\n",
       "    }\n",
       "\n",
       "    .dataframe thead th {\n",
       "        text-align: right;\n",
       "    }\n",
       "</style>\n",
       "<table border=\"1\" class=\"dataframe\">\n",
       "  <thead>\n",
       "    <tr style=\"text-align: right;\">\n",
       "      <th></th>\n",
       "      <th>Unnamed: 0</th>\n",
       "      <th>player_name</th>\n",
       "      <th>team_abbreviation</th>\n",
       "      <th>age</th>\n",
       "      <th>player_height</th>\n",
       "      <th>player_weight</th>\n",
       "      <th>college</th>\n",
       "      <th>country</th>\n",
       "      <th>draft_year</th>\n",
       "      <th>draft_round</th>\n",
       "      <th>...</th>\n",
       "      <th>pts</th>\n",
       "      <th>reb</th>\n",
       "      <th>ast</th>\n",
       "      <th>net_rating</th>\n",
       "      <th>oreb_pct</th>\n",
       "      <th>dreb_pct</th>\n",
       "      <th>usg_pct</th>\n",
       "      <th>ts_pct</th>\n",
       "      <th>ast_pct</th>\n",
       "      <th>season</th>\n",
       "    </tr>\n",
       "  </thead>\n",
       "  <tbody>\n",
       "    <tr>\n",
       "      <th>0</th>\n",
       "      <td>0</td>\n",
       "      <td>Chris Robinson</td>\n",
       "      <td>VAN</td>\n",
       "      <td>23.0</td>\n",
       "      <td>195.58</td>\n",
       "      <td>90.71840</td>\n",
       "      <td>Western Kentucky</td>\n",
       "      <td>USA</td>\n",
       "      <td>1996</td>\n",
       "      <td>2</td>\n",
       "      <td>...</td>\n",
       "      <td>4.6</td>\n",
       "      <td>1.7</td>\n",
       "      <td>1.6</td>\n",
       "      <td>-11.4</td>\n",
       "      <td>0.039</td>\n",
       "      <td>0.088</td>\n",
       "      <td>0.155</td>\n",
       "      <td>0.486</td>\n",
       "      <td>0.156</td>\n",
       "      <td>1996-97</td>\n",
       "    </tr>\n",
       "    <tr>\n",
       "      <th>1</th>\n",
       "      <td>1</td>\n",
       "      <td>Matt Fish</td>\n",
       "      <td>MIA</td>\n",
       "      <td>27.0</td>\n",
       "      <td>210.82</td>\n",
       "      <td>106.59412</td>\n",
       "      <td>North Carolina-Wilmington</td>\n",
       "      <td>USA</td>\n",
       "      <td>1992</td>\n",
       "      <td>2</td>\n",
       "      <td>...</td>\n",
       "      <td>0.3</td>\n",
       "      <td>0.8</td>\n",
       "      <td>0.0</td>\n",
       "      <td>-15.1</td>\n",
       "      <td>0.143</td>\n",
       "      <td>0.267</td>\n",
       "      <td>0.265</td>\n",
       "      <td>0.333</td>\n",
       "      <td>0.000</td>\n",
       "      <td>1996-97</td>\n",
       "    </tr>\n",
       "    <tr>\n",
       "      <th>2</th>\n",
       "      <td>2</td>\n",
       "      <td>Matt Bullard</td>\n",
       "      <td>HOU</td>\n",
       "      <td>30.0</td>\n",
       "      <td>208.28</td>\n",
       "      <td>106.59412</td>\n",
       "      <td>Iowa</td>\n",
       "      <td>USA</td>\n",
       "      <td>Undrafted</td>\n",
       "      <td>Undrafted</td>\n",
       "      <td>...</td>\n",
       "      <td>4.5</td>\n",
       "      <td>1.6</td>\n",
       "      <td>0.9</td>\n",
       "      <td>0.9</td>\n",
       "      <td>0.016</td>\n",
       "      <td>0.115</td>\n",
       "      <td>0.151</td>\n",
       "      <td>0.535</td>\n",
       "      <td>0.099</td>\n",
       "      <td>1996-97</td>\n",
       "    </tr>\n",
       "    <tr>\n",
       "      <th>3</th>\n",
       "      <td>3</td>\n",
       "      <td>Marty Conlon</td>\n",
       "      <td>BOS</td>\n",
       "      <td>29.0</td>\n",
       "      <td>210.82</td>\n",
       "      <td>111.13004</td>\n",
       "      <td>Providence</td>\n",
       "      <td>USA</td>\n",
       "      <td>Undrafted</td>\n",
       "      <td>Undrafted</td>\n",
       "      <td>...</td>\n",
       "      <td>7.8</td>\n",
       "      <td>4.4</td>\n",
       "      <td>1.4</td>\n",
       "      <td>-9.0</td>\n",
       "      <td>0.083</td>\n",
       "      <td>0.152</td>\n",
       "      <td>0.167</td>\n",
       "      <td>0.542</td>\n",
       "      <td>0.101</td>\n",
       "      <td>1996-97</td>\n",
       "    </tr>\n",
       "    <tr>\n",
       "      <th>4</th>\n",
       "      <td>4</td>\n",
       "      <td>Martin Muursepp</td>\n",
       "      <td>DAL</td>\n",
       "      <td>22.0</td>\n",
       "      <td>205.74</td>\n",
       "      <td>106.59412</td>\n",
       "      <td>None</td>\n",
       "      <td>USA</td>\n",
       "      <td>1996</td>\n",
       "      <td>1</td>\n",
       "      <td>...</td>\n",
       "      <td>3.7</td>\n",
       "      <td>1.6</td>\n",
       "      <td>0.5</td>\n",
       "      <td>-14.5</td>\n",
       "      <td>0.109</td>\n",
       "      <td>0.118</td>\n",
       "      <td>0.233</td>\n",
       "      <td>0.482</td>\n",
       "      <td>0.114</td>\n",
       "      <td>1996-97</td>\n",
       "    </tr>\n",
       "  </tbody>\n",
       "</table>\n",
       "<p>5 rows × 22 columns</p>\n",
       "</div>"
      ],
      "text/plain": [
       "   Unnamed: 0      player_name team_abbreviation   age  player_height  \\\n",
       "0           0   Chris Robinson               VAN  23.0         195.58   \n",
       "1           1        Matt Fish               MIA  27.0         210.82   \n",
       "2           2     Matt Bullard               HOU  30.0         208.28   \n",
       "3           3     Marty Conlon               BOS  29.0         210.82   \n",
       "4           4  Martin Muursepp               DAL  22.0         205.74   \n",
       "\n",
       "   player_weight                    college country draft_year draft_round  \\\n",
       "0       90.71840           Western Kentucky     USA       1996           2   \n",
       "1      106.59412  North Carolina-Wilmington     USA       1992           2   \n",
       "2      106.59412                       Iowa     USA  Undrafted   Undrafted   \n",
       "3      111.13004                 Providence     USA  Undrafted   Undrafted   \n",
       "4      106.59412                       None     USA       1996           1   \n",
       "\n",
       "   ...  pts  reb  ast  net_rating  oreb_pct  dreb_pct  usg_pct  ts_pct  \\\n",
       "0  ...  4.6  1.7  1.6       -11.4     0.039     0.088    0.155   0.486   \n",
       "1  ...  0.3  0.8  0.0       -15.1     0.143     0.267    0.265   0.333   \n",
       "2  ...  4.5  1.6  0.9         0.9     0.016     0.115    0.151   0.535   \n",
       "3  ...  7.8  4.4  1.4        -9.0     0.083     0.152    0.167   0.542   \n",
       "4  ...  3.7  1.6  0.5       -14.5     0.109     0.118    0.233   0.482   \n",
       "\n",
       "   ast_pct   season  \n",
       "0    0.156  1996-97  \n",
       "1    0.000  1996-97  \n",
       "2    0.099  1996-97  \n",
       "3    0.101  1996-97  \n",
       "4    0.114  1996-97  \n",
       "\n",
       "[5 rows x 22 columns]"
      ]
     },
     "execution_count": 2,
     "metadata": {},
     "output_type": "execute_result"
    }
   ],
   "source": [
    "df = pd.read_csv('all_seasons.csv')\n",
    "df.head()"
   ]
  },
  {
   "cell_type": "code",
   "execution_count": 3,
   "metadata": {},
   "outputs": [
    {
     "data": {
      "text/plain": [
       "Index(['Unnamed: 0', 'player_name', 'team_abbreviation', 'age',\n",
       "       'player_height', 'player_weight', 'college', 'country', 'draft_year',\n",
       "       'draft_round', 'draft_number', 'gp', 'pts', 'reb', 'ast', 'net_rating',\n",
       "       'oreb_pct', 'dreb_pct', 'usg_pct', 'ts_pct', 'ast_pct', 'season'],\n",
       "      dtype='object')"
      ]
     },
     "execution_count": 3,
     "metadata": {},
     "output_type": "execute_result"
    }
   ],
   "source": [
    "df.columns"
   ]
  },
  {
   "cell_type": "code",
   "execution_count": 4,
   "metadata": {},
   "outputs": [
    {
     "data": {
      "text/html": [
       "<div>\n",
       "<style scoped>\n",
       "    .dataframe tbody tr th:only-of-type {\n",
       "        vertical-align: middle;\n",
       "    }\n",
       "\n",
       "    .dataframe tbody tr th {\n",
       "        vertical-align: top;\n",
       "    }\n",
       "\n",
       "    .dataframe thead th {\n",
       "        text-align: right;\n",
       "    }\n",
       "</style>\n",
       "<table border=\"1\" class=\"dataframe\">\n",
       "  <thead>\n",
       "    <tr style=\"text-align: right;\">\n",
       "      <th></th>\n",
       "      <th>player_name</th>\n",
       "      <th>age</th>\n",
       "      <th>player_height</th>\n",
       "      <th>player_weight</th>\n",
       "      <th>pts</th>\n",
       "      <th>reb</th>\n",
       "      <th>target</th>\n",
       "    </tr>\n",
       "  </thead>\n",
       "  <tbody>\n",
       "    <tr>\n",
       "      <th>0</th>\n",
       "      <td>Chris Robinson</td>\n",
       "      <td>23.0</td>\n",
       "      <td>195.58</td>\n",
       "      <td>90.71840</td>\n",
       "      <td>4.6</td>\n",
       "      <td>1.7</td>\n",
       "      <td>0</td>\n",
       "    </tr>\n",
       "    <tr>\n",
       "      <th>1</th>\n",
       "      <td>Matt Fish</td>\n",
       "      <td>27.0</td>\n",
       "      <td>210.82</td>\n",
       "      <td>106.59412</td>\n",
       "      <td>0.3</td>\n",
       "      <td>0.8</td>\n",
       "      <td>0</td>\n",
       "    </tr>\n",
       "    <tr>\n",
       "      <th>2</th>\n",
       "      <td>Matt Bullard</td>\n",
       "      <td>30.0</td>\n",
       "      <td>208.28</td>\n",
       "      <td>106.59412</td>\n",
       "      <td>4.5</td>\n",
       "      <td>1.6</td>\n",
       "      <td>0</td>\n",
       "    </tr>\n",
       "    <tr>\n",
       "      <th>3</th>\n",
       "      <td>Marty Conlon</td>\n",
       "      <td>29.0</td>\n",
       "      <td>210.82</td>\n",
       "      <td>111.13004</td>\n",
       "      <td>7.8</td>\n",
       "      <td>4.4</td>\n",
       "      <td>0</td>\n",
       "    </tr>\n",
       "    <tr>\n",
       "      <th>4</th>\n",
       "      <td>Martin Muursepp</td>\n",
       "      <td>22.0</td>\n",
       "      <td>205.74</td>\n",
       "      <td>106.59412</td>\n",
       "      <td>3.7</td>\n",
       "      <td>1.6</td>\n",
       "      <td>0</td>\n",
       "    </tr>\n",
       "    <tr>\n",
       "      <th>...</th>\n",
       "      <td>...</td>\n",
       "      <td>...</td>\n",
       "      <td>...</td>\n",
       "      <td>...</td>\n",
       "      <td>...</td>\n",
       "      <td>...</td>\n",
       "      <td>...</td>\n",
       "    </tr>\n",
       "    <tr>\n",
       "      <th>9556</th>\n",
       "      <td>Elijah Millsap</td>\n",
       "      <td>29.0</td>\n",
       "      <td>200.66</td>\n",
       "      <td>97.52228</td>\n",
       "      <td>1.5</td>\n",
       "      <td>3.0</td>\n",
       "      <td>0</td>\n",
       "    </tr>\n",
       "    <tr>\n",
       "      <th>9557</th>\n",
       "      <td>Elfrid Payton</td>\n",
       "      <td>23.0</td>\n",
       "      <td>193.04</td>\n",
       "      <td>83.91452</td>\n",
       "      <td>12.8</td>\n",
       "      <td>4.7</td>\n",
       "      <td>1</td>\n",
       "    </tr>\n",
       "    <tr>\n",
       "      <th>9558</th>\n",
       "      <td>Edy Tavares</td>\n",
       "      <td>25.0</td>\n",
       "      <td>220.98</td>\n",
       "      <td>120.20188</td>\n",
       "      <td>4.0</td>\n",
       "      <td>5.5</td>\n",
       "      <td>0</td>\n",
       "    </tr>\n",
       "    <tr>\n",
       "      <th>9559</th>\n",
       "      <td>Willy Hernangomez</td>\n",
       "      <td>23.0</td>\n",
       "      <td>210.82</td>\n",
       "      <td>108.86208</td>\n",
       "      <td>8.2</td>\n",
       "      <td>7.0</td>\n",
       "      <td>0</td>\n",
       "    </tr>\n",
       "    <tr>\n",
       "      <th>9560</th>\n",
       "      <td>Wilson Chandler</td>\n",
       "      <td>30.0</td>\n",
       "      <td>203.20</td>\n",
       "      <td>102.05820</td>\n",
       "      <td>15.7</td>\n",
       "      <td>6.5</td>\n",
       "      <td>0</td>\n",
       "    </tr>\n",
       "  </tbody>\n",
       "</table>\n",
       "<p>9561 rows × 7 columns</p>\n",
       "</div>"
      ],
      "text/plain": [
       "            player_name   age  player_height  player_weight   pts  reb  target\n",
       "0        Chris Robinson  23.0         195.58       90.71840   4.6  1.7       0\n",
       "1             Matt Fish  27.0         210.82      106.59412   0.3  0.8       0\n",
       "2          Matt Bullard  30.0         208.28      106.59412   4.5  1.6       0\n",
       "3          Marty Conlon  29.0         210.82      111.13004   7.8  4.4       0\n",
       "4       Martin Muursepp  22.0         205.74      106.59412   3.7  1.6       0\n",
       "...                 ...   ...            ...            ...   ...  ...     ...\n",
       "9556     Elijah Millsap  29.0         200.66       97.52228   1.5  3.0       0\n",
       "9557      Elfrid Payton  23.0         193.04       83.91452  12.8  4.7       1\n",
       "9558        Edy Tavares  25.0         220.98      120.20188   4.0  5.5       0\n",
       "9559  Willy Hernangomez  23.0         210.82      108.86208   8.2  7.0       0\n",
       "9560    Wilson Chandler  30.0         203.20      102.05820  15.7  6.5       0\n",
       "\n",
       "[9561 rows x 7 columns]"
      ]
     },
     "execution_count": 4,
     "metadata": {},
     "output_type": "execute_result"
    }
   ],
   "source": [
    "df\n",
    "df = df[['player_name', 'age', 'player_height', 'player_weight', 'pts', 'reb']]\n",
    "df['target'] = df.apply(lambda x: 1 if (x['age']<=25) & (x['player_height']>=180) & (x['player_weight']<=90) & (x['pts']>=6) & (x['reb']>=3) else 0, axis=1)\n",
    "# df.shape\n",
    "df"
   ]
  },
  {
   "cell_type": "code",
   "execution_count": 5,
   "metadata": {},
   "outputs": [
    {
     "data": {
      "text/plain": [
       "player_name      0\n",
       "age              0\n",
       "player_height    0\n",
       "player_weight    0\n",
       "pts              0\n",
       "reb              0\n",
       "target           0\n",
       "dtype: int64"
      ]
     },
     "execution_count": 5,
     "metadata": {},
     "output_type": "execute_result"
    }
   ],
   "source": [
    "df.isnull().sum()"
   ]
  },
  {
   "cell_type": "markdown",
   "metadata": {},
   "source": [
    "### Standarisasi"
   ]
  },
  {
   "cell_type": "code",
   "execution_count": 6,
   "metadata": {},
   "outputs": [
    {
     "data": {
      "text/plain": [
       "array([[-0.99674183, -0.57899275, -0.80260413, -0.58938997, -0.74785002],\n",
       "       [-0.07727165,  1.06312962,  0.43960663, -1.31961423, -1.10871173],\n",
       "       [ 0.61233098,  0.78944256,  0.43960663, -0.60637193, -0.78794577],\n",
       "       ...,\n",
       "       [-0.53700674,  2.15787786,  1.50435871, -0.69128173,  0.7757883 ],\n",
       "       [-0.99674183,  1.06312962,  0.61706531,  0.02196056,  1.37722448],\n",
       "       [ 0.61233098,  0.24206844,  0.08468927,  1.29560752,  1.17674575]])"
      ]
     },
     "execution_count": 6,
     "metadata": {},
     "output_type": "execute_result"
    }
   ],
   "source": [
    "stdscaler = StandardScaler()\n",
    "\n",
    "datastd = stdscaler.fit_transform(df.iloc[:,1:6])\n",
    "datastd"
   ]
  },
  {
   "cell_type": "markdown",
   "metadata": {},
   "source": [
    "### Cek Outlier"
   ]
  },
  {
   "cell_type": "code",
   "execution_count": 7,
   "metadata": {},
   "outputs": [
    {
     "data": {
      "text/plain": [
       "0     82\n",
       "1     62\n",
       "2     80\n",
       "3    209\n",
       "4    267\n",
       "dtype: int64"
      ]
     },
     "execution_count": 7,
     "metadata": {},
     "output_type": "execute_result"
    }
   ],
   "source": [
    "dfZscore = pd.DataFrame(datastd)\n",
    "dfZscore.head()\n",
    "\n",
    "dfZscore[(dfZscore < -2.5) | (dfZscore > 2.5)] = np.NaN\n",
    "dfZscore.isnull().sum()"
   ]
  },
  {
   "cell_type": "code",
   "execution_count": 8,
   "metadata": {},
   "outputs": [
    {
     "data": {
      "text/html": [
       "<div>\n",
       "<style scoped>\n",
       "    .dataframe tbody tr th:only-of-type {\n",
       "        vertical-align: middle;\n",
       "    }\n",
       "\n",
       "    .dataframe tbody tr th {\n",
       "        vertical-align: top;\n",
       "    }\n",
       "\n",
       "    .dataframe thead th {\n",
       "        text-align: right;\n",
       "    }\n",
       "</style>\n",
       "<table border=\"1\" class=\"dataframe\">\n",
       "  <thead>\n",
       "    <tr style=\"text-align: right;\">\n",
       "      <th></th>\n",
       "      <th>0</th>\n",
       "      <th>1</th>\n",
       "      <th>2</th>\n",
       "      <th>3</th>\n",
       "      <th>4</th>\n",
       "      <th>target</th>\n",
       "    </tr>\n",
       "  </thead>\n",
       "  <tbody>\n",
       "    <tr>\n",
       "      <th>0</th>\n",
       "      <td>-0.996742</td>\n",
       "      <td>-0.578993</td>\n",
       "      <td>-0.802604</td>\n",
       "      <td>-0.589390</td>\n",
       "      <td>-0.747850</td>\n",
       "      <td>0</td>\n",
       "    </tr>\n",
       "    <tr>\n",
       "      <th>1</th>\n",
       "      <td>-0.077272</td>\n",
       "      <td>1.063130</td>\n",
       "      <td>0.439607</td>\n",
       "      <td>-1.319614</td>\n",
       "      <td>-1.108712</td>\n",
       "      <td>0</td>\n",
       "    </tr>\n",
       "    <tr>\n",
       "      <th>2</th>\n",
       "      <td>0.612331</td>\n",
       "      <td>0.789443</td>\n",
       "      <td>0.439607</td>\n",
       "      <td>-0.606372</td>\n",
       "      <td>-0.787946</td>\n",
       "      <td>0</td>\n",
       "    </tr>\n",
       "    <tr>\n",
       "      <th>3</th>\n",
       "      <td>0.382463</td>\n",
       "      <td>1.063130</td>\n",
       "      <td>0.794524</td>\n",
       "      <td>-0.045967</td>\n",
       "      <td>0.334735</td>\n",
       "      <td>0</td>\n",
       "    </tr>\n",
       "    <tr>\n",
       "      <th>4</th>\n",
       "      <td>-1.226609</td>\n",
       "      <td>0.515755</td>\n",
       "      <td>0.439607</td>\n",
       "      <td>-0.742228</td>\n",
       "      <td>-0.787946</td>\n",
       "      <td>0</td>\n",
       "    </tr>\n",
       "    <tr>\n",
       "      <th>...</th>\n",
       "      <td>...</td>\n",
       "      <td>...</td>\n",
       "      <td>...</td>\n",
       "      <td>...</td>\n",
       "      <td>...</td>\n",
       "      <td>...</td>\n",
       "    </tr>\n",
       "    <tr>\n",
       "      <th>9556</th>\n",
       "      <td>0.382463</td>\n",
       "      <td>-0.031619</td>\n",
       "      <td>-0.270228</td>\n",
       "      <td>-1.115831</td>\n",
       "      <td>-0.226605</td>\n",
       "      <td>0</td>\n",
       "    </tr>\n",
       "    <tr>\n",
       "      <th>9557</th>\n",
       "      <td>-0.996742</td>\n",
       "      <td>-0.852680</td>\n",
       "      <td>-1.334980</td>\n",
       "      <td>0.803131</td>\n",
       "      <td>0.455022</td>\n",
       "      <td>1</td>\n",
       "    </tr>\n",
       "    <tr>\n",
       "      <th>9558</th>\n",
       "      <td>-0.537007</td>\n",
       "      <td>2.157878</td>\n",
       "      <td>1.504359</td>\n",
       "      <td>-0.691282</td>\n",
       "      <td>0.775788</td>\n",
       "      <td>0</td>\n",
       "    </tr>\n",
       "    <tr>\n",
       "      <th>9559</th>\n",
       "      <td>-0.996742</td>\n",
       "      <td>1.063130</td>\n",
       "      <td>0.617065</td>\n",
       "      <td>0.021961</td>\n",
       "      <td>1.377224</td>\n",
       "      <td>0</td>\n",
       "    </tr>\n",
       "    <tr>\n",
       "      <th>9560</th>\n",
       "      <td>0.612331</td>\n",
       "      <td>0.242068</td>\n",
       "      <td>0.084689</td>\n",
       "      <td>1.295608</td>\n",
       "      <td>1.176746</td>\n",
       "      <td>0</td>\n",
       "    </tr>\n",
       "  </tbody>\n",
       "</table>\n",
       "<p>9561 rows × 6 columns</p>\n",
       "</div>"
      ],
      "text/plain": [
       "             0         1         2         3         4  target\n",
       "0    -0.996742 -0.578993 -0.802604 -0.589390 -0.747850       0\n",
       "1    -0.077272  1.063130  0.439607 -1.319614 -1.108712       0\n",
       "2     0.612331  0.789443  0.439607 -0.606372 -0.787946       0\n",
       "3     0.382463  1.063130  0.794524 -0.045967  0.334735       0\n",
       "4    -1.226609  0.515755  0.439607 -0.742228 -0.787946       0\n",
       "...        ...       ...       ...       ...       ...     ...\n",
       "9556  0.382463 -0.031619 -0.270228 -1.115831 -0.226605       0\n",
       "9557 -0.996742 -0.852680 -1.334980  0.803131  0.455022       1\n",
       "9558 -0.537007  2.157878  1.504359 -0.691282  0.775788       0\n",
       "9559 -0.996742  1.063130  0.617065  0.021961  1.377224       0\n",
       "9560  0.612331  0.242068  0.084689  1.295608  1.176746       0\n",
       "\n",
       "[9561 rows x 6 columns]"
      ]
     },
     "execution_count": 8,
     "metadata": {},
     "output_type": "execute_result"
    }
   ],
   "source": [
    "dfZscore['target'] = df['target']\n",
    "dfZscore"
   ]
  },
  {
   "cell_type": "code",
   "execution_count": 9,
   "metadata": {},
   "outputs": [
    {
     "data": {
      "text/plain": [
       "0         0\n",
       "1         0\n",
       "2         0\n",
       "3         0\n",
       "4         0\n",
       "target    0\n",
       "dtype: int64"
      ]
     },
     "execution_count": 9,
     "metadata": {},
     "output_type": "execute_result"
    }
   ],
   "source": [
    "dataBasket = dfZscore.dropna()\n",
    "dataBasket.isnull().sum()"
   ]
  },
  {
   "cell_type": "markdown",
   "metadata": {},
   "source": [
    "### Splitting Data"
   ]
  },
  {
   "cell_type": "code",
   "execution_count": 10,
   "metadata": {},
   "outputs": [
    {
     "name": "stdout",
     "output_type": "stream",
     "text": [
      "             0         1         2         3         4\n",
      "0    -0.996742 -0.578993 -0.802604 -0.589390 -0.747850\n",
      "1    -0.077272  1.063130  0.439607 -1.319614 -1.108712\n",
      "2     0.612331  0.789443  0.439607 -0.606372 -0.787946\n",
      "3     0.382463  1.063130  0.794524 -0.045967  0.334735\n",
      "4    -1.226609  0.515755  0.439607 -0.742228 -0.787946\n",
      "...        ...       ...       ...       ...       ...\n",
      "9556  0.382463 -0.031619 -0.270228 -1.115831 -0.226605\n",
      "9557 -0.996742 -0.852680 -1.334980  0.803131  0.455022\n",
      "9558 -0.537007  2.157878  1.504359 -0.691282  0.775788\n",
      "9559 -0.996742  1.063130  0.617065  0.021961  1.377224\n",
      "9560  0.612331  0.242068  0.084689  1.295608  1.176746\n",
      "\n",
      "[8948 rows x 5 columns]\n"
     ]
    }
   ],
   "source": [
    "x = dataBasket.drop('target',axis=1)\n",
    "y = (dataBasket['target'])\n",
    "# print(x.shape, y.shape) \n",
    "print(x)\n",
    "# print(y)\n",
    "# y.unique()"
   ]
  },
  {
   "cell_type": "code",
   "execution_count": 11,
   "metadata": {},
   "outputs": [
    {
     "data": {
      "text/html": [
       "<div>\n",
       "<style scoped>\n",
       "    .dataframe tbody tr th:only-of-type {\n",
       "        vertical-align: middle;\n",
       "    }\n",
       "\n",
       "    .dataframe tbody tr th {\n",
       "        vertical-align: top;\n",
       "    }\n",
       "\n",
       "    .dataframe thead th {\n",
       "        text-align: right;\n",
       "    }\n",
       "</style>\n",
       "<table border=\"1\" class=\"dataframe\">\n",
       "  <thead>\n",
       "    <tr style=\"text-align: right;\">\n",
       "      <th></th>\n",
       "      <th>0</th>\n",
       "      <th>1</th>\n",
       "      <th>2</th>\n",
       "      <th>3</th>\n",
       "      <th>4</th>\n",
       "    </tr>\n",
       "  </thead>\n",
       "  <tbody>\n",
       "    <tr>\n",
       "      <th>2383</th>\n",
       "      <td>-1.226609</td>\n",
       "      <td>-0.578993</td>\n",
       "      <td>-1.228505</td>\n",
       "      <td>-1.064885</td>\n",
       "      <td>-1.228999</td>\n",
       "    </tr>\n",
       "    <tr>\n",
       "      <th>1233</th>\n",
       "      <td>-0.996742</td>\n",
       "      <td>-0.305306</td>\n",
       "      <td>0.155673</td>\n",
       "      <td>-0.912047</td>\n",
       "      <td>-0.908233</td>\n",
       "    </tr>\n",
       "    <tr>\n",
       "      <th>6374</th>\n",
       "      <td>-0.766874</td>\n",
       "      <td>0.242068</td>\n",
       "      <td>0.084689</td>\n",
       "      <td>1.227680</td>\n",
       "      <td>0.855980</td>\n",
       "    </tr>\n",
       "    <tr>\n",
       "      <th>2019</th>\n",
       "      <td>-0.537007</td>\n",
       "      <td>0.789443</td>\n",
       "      <td>-0.092769</td>\n",
       "      <td>-1.098849</td>\n",
       "      <td>-0.707754</td>\n",
       "    </tr>\n",
       "    <tr>\n",
       "      <th>378</th>\n",
       "      <td>-0.766874</td>\n",
       "      <td>-1.400054</td>\n",
       "      <td>-1.618914</td>\n",
       "      <td>-0.606372</td>\n",
       "      <td>-1.028520</td>\n",
       "    </tr>\n",
       "    <tr>\n",
       "      <th>...</th>\n",
       "      <td>...</td>\n",
       "      <td>...</td>\n",
       "      <td>...</td>\n",
       "      <td>...</td>\n",
       "      <td>...</td>\n",
       "    </tr>\n",
       "    <tr>\n",
       "      <th>6690</th>\n",
       "      <td>-1.226609</td>\n",
       "      <td>1.063130</td>\n",
       "      <td>0.971983</td>\n",
       "      <td>1.244662</td>\n",
       "      <td>2.459810</td>\n",
       "    </tr>\n",
       "    <tr>\n",
       "      <th>7658</th>\n",
       "      <td>0.382463</td>\n",
       "      <td>0.242068</td>\n",
       "      <td>0.617065</td>\n",
       "      <td>-0.334661</td>\n",
       "      <td>-0.386988</td>\n",
       "    </tr>\n",
       "    <tr>\n",
       "      <th>4444</th>\n",
       "      <td>-0.077272</td>\n",
       "      <td>-0.031619</td>\n",
       "      <td>1.326900</td>\n",
       "      <td>1.822048</td>\n",
       "      <td>1.176746</td>\n",
       "    </tr>\n",
       "    <tr>\n",
       "      <th>4277</th>\n",
       "      <td>-0.766874</td>\n",
       "      <td>-1.400054</td>\n",
       "      <td>-0.802604</td>\n",
       "      <td>0.327636</td>\n",
       "      <td>-0.507276</td>\n",
       "    </tr>\n",
       "    <tr>\n",
       "      <th>2083</th>\n",
       "      <td>0.612331</td>\n",
       "      <td>-1.673741</td>\n",
       "      <td>-1.938340</td>\n",
       "      <td>-0.096913</td>\n",
       "      <td>-0.547371</td>\n",
       "    </tr>\n",
       "  </tbody>\n",
       "</table>\n",
       "<p>1611 rows × 5 columns</p>\n",
       "</div>"
      ],
      "text/plain": [
       "             0         1         2         3         4\n",
       "2383 -1.226609 -0.578993 -1.228505 -1.064885 -1.228999\n",
       "1233 -0.996742 -0.305306  0.155673 -0.912047 -0.908233\n",
       "6374 -0.766874  0.242068  0.084689  1.227680  0.855980\n",
       "2019 -0.537007  0.789443 -0.092769 -1.098849 -0.707754\n",
       "378  -0.766874 -1.400054 -1.618914 -0.606372 -1.028520\n",
       "...        ...       ...       ...       ...       ...\n",
       "6690 -1.226609  1.063130  0.971983  1.244662  2.459810\n",
       "7658  0.382463  0.242068  0.617065 -0.334661 -0.386988\n",
       "4444 -0.077272 -0.031619  1.326900  1.822048  1.176746\n",
       "4277 -0.766874 -1.400054 -0.802604  0.327636 -0.507276\n",
       "2083  0.612331 -1.673741 -1.938340 -0.096913 -0.547371\n",
       "\n",
       "[1611 rows x 5 columns]"
      ]
     },
     "execution_count": 11,
     "metadata": {},
     "output_type": "execute_result"
    }
   ],
   "source": [
    "xtr, xts, ytr, yts = train_test_split(\n",
    "    x, y, test_size = .18,random_state=100\n",
    ")\n",
    "# print(xtr.shape, xts.shape)\n",
    "# print(ytr.shape, yts.shape)\n",
    "len(xts)\n",
    "len(yts)\n",
    "xts"
   ]
  },
  {
   "cell_type": "markdown",
   "metadata": {},
   "source": [
    "# Modelling"
   ]
  },
  {
   "cell_type": "markdown",
   "metadata": {},
   "source": [
    "### 1. Logistic Regression"
   ]
  },
  {
   "cell_type": "code",
   "execution_count": 12,
   "metadata": {},
   "outputs": [
    {
     "data": {
      "text/plain": [
       "LogisticRegression(C=1.0, class_weight=None, dual=False, fit_intercept=True,\n",
       "                   intercept_scaling=1, l1_ratio=None, max_iter=100,\n",
       "                   multi_class='auto', n_jobs=None, penalty='l2',\n",
       "                   random_state=None, solver='lbfgs', tol=0.0001, verbose=0,\n",
       "                   warm_start=False)"
      ]
     },
     "execution_count": 12,
     "metadata": {},
     "output_type": "execute_result"
    }
   ],
   "source": [
    "logreg = LogisticRegression()\n",
    "logreg.fit(xtr, ytr)\n",
    "# logreg_predictions = logreg.predict(xts)\n",
    "# logreg_predictions"
   ]
  },
  {
   "cell_type": "code",
   "execution_count": 13,
   "metadata": {},
   "outputs": [
    {
     "data": {
      "text/plain": [
       "0.9826194909993793"
      ]
     },
     "execution_count": 13,
     "metadata": {},
     "output_type": "execute_result"
    }
   ],
   "source": [
    "logreg.score(xts,yts)"
   ]
  },
  {
   "cell_type": "markdown",
   "metadata": {},
   "source": [
    "### 2. Random Forest "
   ]
  },
  {
   "cell_type": "code",
   "execution_count": 14,
   "metadata": {},
   "outputs": [
    {
     "data": {
      "text/plain": [
       "RandomForestClassifier(bootstrap=True, ccp_alpha=0.0, class_weight=None,\n",
       "                       criterion='gini', max_depth=None, max_features='auto',\n",
       "                       max_leaf_nodes=None, max_samples=None,\n",
       "                       min_impurity_decrease=0.0, min_impurity_split=None,\n",
       "                       min_samples_leaf=1, min_samples_split=2,\n",
       "                       min_weight_fraction_leaf=0.0, n_estimators=100,\n",
       "                       n_jobs=None, oob_score=False, random_state=None,\n",
       "                       verbose=0, warm_start=False)"
      ]
     },
     "execution_count": 14,
     "metadata": {},
     "output_type": "execute_result"
    }
   ],
   "source": [
    "rfModel = RandomForestClassifier(n_estimators=100)\n",
    "rfModel.fit(xtr,ytr)\n",
    "# len(rfModel.estimators_) #ada 100 estimators\n",
    "# rfModel_predictions = rfModel.predict(xts)\n",
    "# rfModel_predictions"
   ]
  },
  {
   "cell_type": "code",
   "execution_count": 15,
   "metadata": {},
   "outputs": [
    {
     "data": {
      "text/plain": [
       "0.9987585350713842"
      ]
     },
     "execution_count": 15,
     "metadata": {},
     "output_type": "execute_result"
    }
   ],
   "source": [
    "rfModel.score(xts, yts)"
   ]
  },
  {
   "cell_type": "markdown",
   "metadata": {},
   "source": [
    "### 3. K-Nearest Neighbors "
   ]
  },
  {
   "cell_type": "code",
   "execution_count": 16,
   "metadata": {},
   "outputs": [
    {
     "data": {
      "text/plain": [
       "KNeighborsClassifier(algorithm='auto', leaf_size=30, metric='minkowski',\n",
       "                     metric_params=None, n_jobs=None, n_neighbors=87, p=2,\n",
       "                     weights='uniform')"
      ]
     },
     "execution_count": 16,
     "metadata": {},
     "output_type": "execute_result"
    }
   ],
   "source": [
    "## nilai K\n",
    "k = round(xtr.shape[0] ** .5) + 1 \n",
    "k\n",
    "knnmodel = KNeighborsClassifier(n_neighbors=k)\n",
    "knnmodel.fit(xtr,ytr)\n",
    "# knnmodel_predictions = knnmodel.predict(xts)\n",
    "# knnmodel_predictions"
   ]
  },
  {
   "cell_type": "code",
   "execution_count": 17,
   "metadata": {},
   "outputs": [
    {
     "data": {
      "text/plain": [
       "0.9869646182495344"
      ]
     },
     "execution_count": 17,
     "metadata": {},
     "output_type": "execute_result"
    }
   ],
   "source": [
    "knnmodel.score(xts, yts)"
   ]
  },
  {
   "cell_type": "code",
   "execution_count": 18,
   "metadata": {},
   "outputs": [
    {
     "name": "stdout",
     "output_type": "stream",
     "text": [
      "Score: \n",
      "Logistic Regression Score = 0.9826194909993793 \n",
      "Random Forest Score = 0.9987585350713842 \n",
      "KNN Score = 0.9869646182495344 \n"
     ]
    }
   ],
   "source": [
    "print('Score: ')\n",
    "print('Logistic Regression Score = {} \\nRandom Forest Score = {} \\nKNN Score = {} '\n",
    "      .format(logreg.score(xts,yts),rfModel.score(xts,yts), knnmodel.score(xts,yts)))"
   ]
  },
  {
   "cell_type": "markdown",
   "metadata": {},
   "source": [
    "### Cross Validation "
   ]
  },
  {
   "cell_type": "code",
   "execution_count": 19,
   "metadata": {},
   "outputs": [
    {
     "name": "stdout",
     "output_type": "stream",
     "text": [
      "Logistic Regression Score = 0.9845773207465861 \n",
      "Random Forest Score = 0.9984356292801134 \n",
      "KNN Score = 0.9868129568967403 \n"
     ]
    }
   ],
   "source": [
    "rfModel_score = np.mean(cross_val_score(logreg,x,y, cv=5))\n",
    "logreg_score = np.mean(cross_val_score(rfModel, x, y, cv=5))\n",
    "knnmodel_score = np.mean(cross_val_score(knnmodel, x, y, cv=5))\n",
    "\n",
    "print('Logistic Regression Score = {} \\nRandom Forest Score = {} \\nKNN Score = {} '\n",
    "      .format(rfModel_score, logreg_score, knnmodel_score))"
   ]
  },
  {
   "cell_type": "markdown",
   "metadata": {},
   "source": [
    "# Hyper-parameter Tuning "
   ]
  },
  {
   "cell_type": "markdown",
   "metadata": {},
   "source": [
    "### 1. Logistic Regression"
   ]
  },
  {
   "cell_type": "code",
   "execution_count": 20,
   "metadata": {},
   "outputs": [
    {
     "data": {
      "text/plain": [
       "{'penalty': ['l1', 'l2', 'elasticnet', 'none'],\n",
       " 'solver': ['newton-cg', 'lbfgs', 'liblinear', 'sag', 'saga'],\n",
       " 'max_iter': [1, 10, 100, 1000, 10000]}"
      ]
     },
     "execution_count": 20,
     "metadata": {},
     "output_type": "execute_result"
    }
   ],
   "source": [
    "# param yang akan di tuned + nilai yang mungkin\n",
    "\n",
    "penalty = ['l1','l2','elasticnet','none']\n",
    "solver = ['newton-cg', 'lbfgs', 'liblinear', 'sag', 'saga']\n",
    "max_iter = [1, 10, 100, 1000, 10000]\n",
    "\n",
    "param = {\n",
    "    'penalty':penalty, 'solver':solver, 'max_iter':max_iter\n",
    "}\n",
    "param\n",
    "\n",
    "# logreg.get_params()"
   ]
  },
  {
   "cell_type": "code",
   "execution_count": 21,
   "metadata": {},
   "outputs": [],
   "source": [
    "# logreg.get_params()"
   ]
  },
  {
   "cell_type": "markdown",
   "metadata": {},
   "source": [
    "### - Randomized Search CV"
   ]
  },
  {
   "cell_type": "code",
   "execution_count": 22,
   "metadata": {},
   "outputs": [],
   "source": [
    "model = LogisticRegression()\n",
    "modelrs = RandomizedSearchCV(\n",
    "    estimator = model, param_distributions = param, cv = 5 \n",
    ")"
   ]
  },
  {
   "cell_type": "code",
   "execution_count": 23,
   "metadata": {},
   "outputs": [
    {
     "name": "stderr",
     "output_type": "stream",
     "text": [
      "/Library/Frameworks/Python.framework/Versions/3.8/lib/python3.8/site-packages/sklearn/linear_model/_sag.py:329: ConvergenceWarning: The max_iter was reached which means the coef_ did not converge\n",
      "  warnings.warn(\"The max_iter was reached which means \"\n",
      "/Library/Frameworks/Python.framework/Versions/3.8/lib/python3.8/site-packages/sklearn/linear_model/_sag.py:329: ConvergenceWarning: The max_iter was reached which means the coef_ did not converge\n",
      "  warnings.warn(\"The max_iter was reached which means \"\n",
      "/Library/Frameworks/Python.framework/Versions/3.8/lib/python3.8/site-packages/sklearn/linear_model/_sag.py:329: ConvergenceWarning: The max_iter was reached which means the coef_ did not converge\n",
      "  warnings.warn(\"The max_iter was reached which means \"\n",
      "/Library/Frameworks/Python.framework/Versions/3.8/lib/python3.8/site-packages/sklearn/linear_model/_sag.py:329: ConvergenceWarning: The max_iter was reached which means the coef_ did not converge\n",
      "  warnings.warn(\"The max_iter was reached which means \"\n",
      "/Library/Frameworks/Python.framework/Versions/3.8/lib/python3.8/site-packages/sklearn/linear_model/_sag.py:329: ConvergenceWarning: The max_iter was reached which means the coef_ did not converge\n",
      "  warnings.warn(\"The max_iter was reached which means \"\n",
      "/Library/Frameworks/Python.framework/Versions/3.8/lib/python3.8/site-packages/sklearn/linear_model/_logistic.py:938: ConvergenceWarning: lbfgs failed to converge (status=1):\n",
      "STOP: TOTAL NO. of ITERATIONS REACHED LIMIT.\n",
      "\n",
      "Increase the number of iterations (max_iter) or scale the data as shown in:\n",
      "    https://scikit-learn.org/stable/modules/preprocessing.html\n",
      "Please also refer to the documentation for alternative solver options:\n",
      "    https://scikit-learn.org/stable/modules/linear_model.html#logistic-regression\n",
      "  n_iter_i = _check_optimize_result(\n",
      "/Library/Frameworks/Python.framework/Versions/3.8/lib/python3.8/site-packages/sklearn/linear_model/_logistic.py:938: ConvergenceWarning: lbfgs failed to converge (status=1):\n",
      "STOP: TOTAL NO. of ITERATIONS REACHED LIMIT.\n",
      "\n",
      "Increase the number of iterations (max_iter) or scale the data as shown in:\n",
      "    https://scikit-learn.org/stable/modules/preprocessing.html\n",
      "Please also refer to the documentation for alternative solver options:\n",
      "    https://scikit-learn.org/stable/modules/linear_model.html#logistic-regression\n",
      "  n_iter_i = _check_optimize_result(\n",
      "/Library/Frameworks/Python.framework/Versions/3.8/lib/python3.8/site-packages/sklearn/linear_model/_logistic.py:938: ConvergenceWarning: lbfgs failed to converge (status=1):\n",
      "STOP: TOTAL NO. of ITERATIONS REACHED LIMIT.\n",
      "\n",
      "Increase the number of iterations (max_iter) or scale the data as shown in:\n",
      "    https://scikit-learn.org/stable/modules/preprocessing.html\n",
      "Please also refer to the documentation for alternative solver options:\n",
      "    https://scikit-learn.org/stable/modules/linear_model.html#logistic-regression\n",
      "  n_iter_i = _check_optimize_result(\n",
      "/Library/Frameworks/Python.framework/Versions/3.8/lib/python3.8/site-packages/sklearn/linear_model/_logistic.py:938: ConvergenceWarning: lbfgs failed to converge (status=1):\n",
      "STOP: TOTAL NO. of ITERATIONS REACHED LIMIT.\n",
      "\n",
      "Increase the number of iterations (max_iter) or scale the data as shown in:\n",
      "    https://scikit-learn.org/stable/modules/preprocessing.html\n",
      "Please also refer to the documentation for alternative solver options:\n",
      "    https://scikit-learn.org/stable/modules/linear_model.html#logistic-regression\n",
      "  n_iter_i = _check_optimize_result(\n",
      "/Library/Frameworks/Python.framework/Versions/3.8/lib/python3.8/site-packages/sklearn/linear_model/_logistic.py:938: ConvergenceWarning: lbfgs failed to converge (status=1):\n",
      "STOP: TOTAL NO. of ITERATIONS REACHED LIMIT.\n",
      "\n",
      "Increase the number of iterations (max_iter) or scale the data as shown in:\n",
      "    https://scikit-learn.org/stable/modules/preprocessing.html\n",
      "Please also refer to the documentation for alternative solver options:\n",
      "    https://scikit-learn.org/stable/modules/linear_model.html#logistic-regression\n",
      "  n_iter_i = _check_optimize_result(\n",
      "/Library/Frameworks/Python.framework/Versions/3.8/lib/python3.8/site-packages/sklearn/linear_model/_sag.py:329: ConvergenceWarning: The max_iter was reached which means the coef_ did not converge\n",
      "  warnings.warn(\"The max_iter was reached which means \"\n",
      "/Library/Frameworks/Python.framework/Versions/3.8/lib/python3.8/site-packages/sklearn/linear_model/_sag.py:329: ConvergenceWarning: The max_iter was reached which means the coef_ did not converge\n",
      "  warnings.warn(\"The max_iter was reached which means \"\n",
      "/Library/Frameworks/Python.framework/Versions/3.8/lib/python3.8/site-packages/sklearn/linear_model/_sag.py:329: ConvergenceWarning: The max_iter was reached which means the coef_ did not converge\n",
      "  warnings.warn(\"The max_iter was reached which means \"\n",
      "/Library/Frameworks/Python.framework/Versions/3.8/lib/python3.8/site-packages/sklearn/linear_model/_sag.py:329: ConvergenceWarning: The max_iter was reached which means the coef_ did not converge\n",
      "  warnings.warn(\"The max_iter was reached which means \"\n",
      "/Library/Frameworks/Python.framework/Versions/3.8/lib/python3.8/site-packages/sklearn/linear_model/_sag.py:329: ConvergenceWarning: The max_iter was reached which means the coef_ did not converge\n",
      "  warnings.warn(\"The max_iter was reached which means \"\n",
      "/Library/Frameworks/Python.framework/Versions/3.8/lib/python3.8/site-packages/sklearn/linear_model/_sag.py:329: ConvergenceWarning: The max_iter was reached which means the coef_ did not converge\n",
      "  warnings.warn(\"The max_iter was reached which means \"\n",
      "/Library/Frameworks/Python.framework/Versions/3.8/lib/python3.8/site-packages/sklearn/linear_model/_sag.py:329: ConvergenceWarning: The max_iter was reached which means the coef_ did not converge\n",
      "  warnings.warn(\"The max_iter was reached which means \"\n",
      "/Library/Frameworks/Python.framework/Versions/3.8/lib/python3.8/site-packages/sklearn/linear_model/_sag.py:329: ConvergenceWarning: The max_iter was reached which means the coef_ did not converge\n",
      "  warnings.warn(\"The max_iter was reached which means \"\n",
      "/Library/Frameworks/Python.framework/Versions/3.8/lib/python3.8/site-packages/sklearn/linear_model/_sag.py:329: ConvergenceWarning: The max_iter was reached which means the coef_ did not converge\n",
      "  warnings.warn(\"The max_iter was reached which means \"\n",
      "/Library/Frameworks/Python.framework/Versions/3.8/lib/python3.8/site-packages/sklearn/linear_model/_sag.py:329: ConvergenceWarning: The max_iter was reached which means the coef_ did not converge\n",
      "  warnings.warn(\"The max_iter was reached which means \"\n",
      "/Library/Frameworks/Python.framework/Versions/3.8/lib/python3.8/site-packages/sklearn/model_selection/_validation.py:532: FitFailedWarning: Estimator fit failed. The score on this train-test partition for these parameters will be set to nan. Details: \n",
      "ValueError: l1_ratio must be between 0 and 1; got (l1_ratio=None)\n",
      "\n",
      "  warnings.warn(\"Estimator fit failed. The score on this train-test\"\n",
      "/Library/Frameworks/Python.framework/Versions/3.8/lib/python3.8/site-packages/sklearn/model_selection/_validation.py:532: FitFailedWarning: Estimator fit failed. The score on this train-test partition for these parameters will be set to nan. Details: \n",
      "ValueError: Only 'saga' solver supports elasticnet penalty, got solver=liblinear.\n",
      "\n",
      "  warnings.warn(\"Estimator fit failed. The score on this train-test\"\n",
      "/Library/Frameworks/Python.framework/Versions/3.8/lib/python3.8/site-packages/sklearn/linear_model/_logistic.py:938: ConvergenceWarning: lbfgs failed to converge (status=1):\n",
      "STOP: TOTAL NO. of ITERATIONS REACHED LIMIT.\n",
      "\n",
      "Increase the number of iterations (max_iter) or scale the data as shown in:\n",
      "    https://scikit-learn.org/stable/modules/preprocessing.html\n",
      "Please also refer to the documentation for alternative solver options:\n",
      "    https://scikit-learn.org/stable/modules/linear_model.html#logistic-regression\n",
      "  n_iter_i = _check_optimize_result(\n",
      "/Library/Frameworks/Python.framework/Versions/3.8/lib/python3.8/site-packages/sklearn/linear_model/_logistic.py:938: ConvergenceWarning: lbfgs failed to converge (status=1):\n",
      "STOP: TOTAL NO. of ITERATIONS REACHED LIMIT.\n",
      "\n",
      "Increase the number of iterations (max_iter) or scale the data as shown in:\n",
      "    https://scikit-learn.org/stable/modules/preprocessing.html\n",
      "Please also refer to the documentation for alternative solver options:\n",
      "    https://scikit-learn.org/stable/modules/linear_model.html#logistic-regression\n",
      "  n_iter_i = _check_optimize_result(\n",
      "/Library/Frameworks/Python.framework/Versions/3.8/lib/python3.8/site-packages/sklearn/linear_model/_logistic.py:938: ConvergenceWarning: lbfgs failed to converge (status=1):\n",
      "STOP: TOTAL NO. of ITERATIONS REACHED LIMIT.\n",
      "\n",
      "Increase the number of iterations (max_iter) or scale the data as shown in:\n",
      "    https://scikit-learn.org/stable/modules/preprocessing.html\n",
      "Please also refer to the documentation for alternative solver options:\n",
      "    https://scikit-learn.org/stable/modules/linear_model.html#logistic-regression\n",
      "  n_iter_i = _check_optimize_result(\n",
      "/Library/Frameworks/Python.framework/Versions/3.8/lib/python3.8/site-packages/sklearn/linear_model/_logistic.py:938: ConvergenceWarning: lbfgs failed to converge (status=1):\n",
      "STOP: TOTAL NO. of ITERATIONS REACHED LIMIT.\n",
      "\n",
      "Increase the number of iterations (max_iter) or scale the data as shown in:\n",
      "    https://scikit-learn.org/stable/modules/preprocessing.html\n",
      "Please also refer to the documentation for alternative solver options:\n",
      "    https://scikit-learn.org/stable/modules/linear_model.html#logistic-regression\n",
      "  n_iter_i = _check_optimize_result(\n",
      "/Library/Frameworks/Python.framework/Versions/3.8/lib/python3.8/site-packages/sklearn/linear_model/_logistic.py:938: ConvergenceWarning: lbfgs failed to converge (status=1):\n",
      "STOP: TOTAL NO. of ITERATIONS REACHED LIMIT.\n",
      "\n",
      "Increase the number of iterations (max_iter) or scale the data as shown in:\n",
      "    https://scikit-learn.org/stable/modules/preprocessing.html\n",
      "Please also refer to the documentation for alternative solver options:\n",
      "    https://scikit-learn.org/stable/modules/linear_model.html#logistic-regression\n",
      "  n_iter_i = _check_optimize_result(\n",
      "/Library/Frameworks/Python.framework/Versions/3.8/lib/python3.8/site-packages/sklearn/utils/optimize.py:211: ConvergenceWarning: newton-cg failed to converge. Increase the number of iterations.\n",
      "  warnings.warn(\"newton-cg failed to converge. Increase the \"\n",
      "/Library/Frameworks/Python.framework/Versions/3.8/lib/python3.8/site-packages/sklearn/utils/optimize.py:211: ConvergenceWarning: newton-cg failed to converge. Increase the number of iterations.\n",
      "  warnings.warn(\"newton-cg failed to converge. Increase the \"\n",
      "/Library/Frameworks/Python.framework/Versions/3.8/lib/python3.8/site-packages/sklearn/utils/optimize.py:211: ConvergenceWarning: newton-cg failed to converge. Increase the number of iterations.\n",
      "  warnings.warn(\"newton-cg failed to converge. Increase the \"\n",
      "/Library/Frameworks/Python.framework/Versions/3.8/lib/python3.8/site-packages/sklearn/utils/optimize.py:211: ConvergenceWarning: newton-cg failed to converge. Increase the number of iterations.\n",
      "  warnings.warn(\"newton-cg failed to converge. Increase the \"\n",
      "/Library/Frameworks/Python.framework/Versions/3.8/lib/python3.8/site-packages/sklearn/utils/optimize.py:211: ConvergenceWarning: newton-cg failed to converge. Increase the number of iterations.\n",
      "  warnings.warn(\"newton-cg failed to converge. Increase the \"\n",
      "/Library/Frameworks/Python.framework/Versions/3.8/lib/python3.8/site-packages/sklearn/linear_model/_logistic.py:938: ConvergenceWarning: lbfgs failed to converge (status=1):\n",
      "STOP: TOTAL NO. of ITERATIONS REACHED LIMIT.\n",
      "\n",
      "Increase the number of iterations (max_iter) or scale the data as shown in:\n",
      "    https://scikit-learn.org/stable/modules/preprocessing.html\n",
      "Please also refer to the documentation for alternative solver options:\n",
      "    https://scikit-learn.org/stable/modules/linear_model.html#logistic-regression\n",
      "  n_iter_i = _check_optimize_result(\n"
     ]
    },
    {
     "data": {
      "text/plain": [
       "{'solver': 'lbfgs', 'penalty': 'l2', 'max_iter': 10}"
      ]
     },
     "execution_count": 23,
     "metadata": {},
     "output_type": "execute_result"
    }
   ],
   "source": [
    "modelrs.fit(xtr,ytr)\n",
    "modelrs.best_params_"
   ]
  },
  {
   "cell_type": "code",
   "execution_count": 24,
   "metadata": {},
   "outputs": [
    {
     "name": "stderr",
     "output_type": "stream",
     "text": [
      "/Library/Frameworks/Python.framework/Versions/3.8/lib/python3.8/site-packages/sklearn/linear_model/_logistic.py:938: ConvergenceWarning: lbfgs failed to converge (status=1):\n",
      "STOP: TOTAL NO. of ITERATIONS REACHED LIMIT.\n",
      "\n",
      "Increase the number of iterations (max_iter) or scale the data as shown in:\n",
      "    https://scikit-learn.org/stable/modules/preprocessing.html\n",
      "Please also refer to the documentation for alternative solver options:\n",
      "    https://scikit-learn.org/stable/modules/linear_model.html#logistic-regression\n",
      "  n_iter_i = _check_optimize_result(\n"
     ]
    },
    {
     "data": {
      "text/plain": [
       "0.983860955927995"
      ]
     },
     "execution_count": 24,
     "metadata": {},
     "output_type": "execute_result"
    }
   ],
   "source": [
    "modellogreg = LogisticRegression(\n",
    "    solver='lbfgs', penalty='l2', max_iter=10\n",
    ")\n",
    "modellogreg.fit(xtr,ytr)\n",
    "modellogreg.score(xts, yts)"
   ]
  },
  {
   "cell_type": "markdown",
   "metadata": {},
   "source": [
    "### 2. Random Forest "
   ]
  },
  {
   "cell_type": "code",
   "execution_count": 25,
   "metadata": {},
   "outputs": [],
   "source": [
    "model = RandomForestClassifier()\n",
    "#hyper parameters set\n",
    "param = {'criterion':['gini','entropy'],\n",
    "          'n_estimators':[10,15,20,25,30],\n",
    "          'min_samples_leaf':[1,2,3],\n",
    "          'min_samples_split':[3,4,5,6,7], \n",
    "          'random_state':[123],\n",
    "          'n_jobs':[-1]}\n",
    "modelrs = RandomizedSearchCV(\n",
    "    estimator = model, param_distributions = param, cv = 5 \n",
    ")"
   ]
  },
  {
   "cell_type": "code",
   "execution_count": 26,
   "metadata": {},
   "outputs": [
    {
     "data": {
      "text/plain": [
       "{'random_state': 123,\n",
       " 'n_jobs': -1,\n",
       " 'n_estimators': 15,\n",
       " 'min_samples_split': 5,\n",
       " 'min_samples_leaf': 1,\n",
       " 'criterion': 'entropy'}"
      ]
     },
     "execution_count": 26,
     "metadata": {},
     "output_type": "execute_result"
    }
   ],
   "source": [
    "modelrs.fit(xtr,ytr)\n",
    "modelrs.best_params_"
   ]
  },
  {
   "cell_type": "code",
   "execution_count": 27,
   "metadata": {},
   "outputs": [
    {
     "data": {
      "text/plain": [
       "1.0"
      ]
     },
     "execution_count": 27,
     "metadata": {},
     "output_type": "execute_result"
    }
   ],
   "source": [
    "modelrf = RandomForestClassifier(\n",
    "    random_state=123, n_jobs=-1, n_estimators=15, min_samples_split=5,min_samples_leaf=1,criterion='entropy'\n",
    ")\n",
    "modelrf.fit(xtr,ytr)\n",
    "modelrf.score(xts, yts)"
   ]
  },
  {
   "cell_type": "markdown",
   "metadata": {},
   "source": [
    "### 3. K-Nearest Neighbors"
   ]
  },
  {
   "cell_type": "code",
   "execution_count": 28,
   "metadata": {},
   "outputs": [],
   "source": [
    "model = KNeighborsClassifier(n_jobs=-1)\n",
    "#Hyper Parameters Set\n",
    "param = {'n_neighbors':[5,6,7,8,9,10],\n",
    "          'leaf_size':[1,2,3,5],\n",
    "          'weights':['uniform', 'distance'],\n",
    "          'algorithm':['auto', 'ball_tree','kd_tree','brute'],\n",
    "          'n_jobs':[-1]}\n",
    "modelrs = RandomizedSearchCV(\n",
    "    estimator = model, param_distributions = param, cv = 5 \n",
    ")"
   ]
  },
  {
   "cell_type": "code",
   "execution_count": 29,
   "metadata": {},
   "outputs": [
    {
     "data": {
      "text/plain": [
       "{'weights': 'distance',\n",
       " 'n_neighbors': 7,\n",
       " 'n_jobs': -1,\n",
       " 'leaf_size': 2,\n",
       " 'algorithm': 'kd_tree'}"
      ]
     },
     "execution_count": 29,
     "metadata": {},
     "output_type": "execute_result"
    }
   ],
   "source": [
    "modelrs.fit(xtr,ytr)\n",
    "modelrs.best_params_"
   ]
  },
  {
   "cell_type": "code",
   "execution_count": 30,
   "metadata": {},
   "outputs": [
    {
     "data": {
      "text/plain": [
       "0.9900682805710739"
      ]
     },
     "execution_count": 30,
     "metadata": {},
     "output_type": "execute_result"
    }
   ],
   "source": [
    "modelknn = KNeighborsClassifier(\n",
    "    weights='distance', n_neighbors=7,n_jobs=-1,leaf_size=2,algorithm='kd_tree'\n",
    ")\n",
    "modelknn.fit(xtr,ytr)\n",
    "modelknn.score(xts, yts)"
   ]
  },
  {
   "cell_type": "code",
   "execution_count": 31,
   "metadata": {},
   "outputs": [
    {
     "name": "stdout",
     "output_type": "stream",
     "text": [
      "Score after Hyper-Parameter Tuning :\n",
      "Logistic Regression Score = 0.983860955927995 \n",
      "Random Forest Score = 1.0 \n",
      "KNN Score = 0.9900682805710739 \n"
     ]
    }
   ],
   "source": [
    "print('Score after Hyper-Parameter Tuning :')\n",
    "print('Logistic Regression Score = {} \\nRandom Forest Score = {} \\nKNN Score = {} '\n",
    "      .format(modellogreg.score(xts,yts), modelrf.score(xts,yts), modelknn.score(xts,yts)))"
   ]
  },
  {
   "cell_type": "markdown",
   "metadata": {},
   "source": [
    "### Prediksi"
   ]
  },
  {
   "cell_type": "code",
   "execution_count": 33,
   "metadata": {},
   "outputs": [
    {
     "name": "stderr",
     "output_type": "stream",
     "text": [
      "<ipython-input-33-928cf7416314>:2: SettingWithCopyWarning: \n",
      "A value is trying to be set on a copy of a slice from a DataFrame.\n",
      "Try using .loc[row_indexer,col_indexer] = value instead\n",
      "\n",
      "See the caveats in the documentation: http://pandas.pydata.org/pandas-docs/stable/user_guide/indexing.html#returning-a-view-versus-a-copy\n",
      "  datatest['target actual']= yts\n",
      "<ipython-input-33-928cf7416314>:8: SettingWithCopyWarning: \n",
      "A value is trying to be set on a copy of a slice from a DataFrame.\n",
      "Try using .loc[row_indexer,col_indexer] = value instead\n",
      "\n",
      "See the caveats in the documentation: http://pandas.pydata.org/pandas-docs/stable/user_guide/indexing.html#returning-a-view-versus-a-copy\n",
      "  datatest['predik LogReg']=modellogreg.predict(xts)\n",
      "<ipython-input-33-928cf7416314>:9: SettingWithCopyWarning: \n",
      "A value is trying to be set on a copy of a slice from a DataFrame.\n",
      "Try using .loc[row_indexer,col_indexer] = value instead\n",
      "\n",
      "See the caveats in the documentation: http://pandas.pydata.org/pandas-docs/stable/user_guide/indexing.html#returning-a-view-versus-a-copy\n",
      "  datatest['predik RandomForest']= modelrf.predict(xts)\n",
      "<ipython-input-33-928cf7416314>:10: SettingWithCopyWarning: \n",
      "A value is trying to be set on a copy of a slice from a DataFrame.\n",
      "Try using .loc[row_indexer,col_indexer] = value instead\n",
      "\n",
      "See the caveats in the documentation: http://pandas.pydata.org/pandas-docs/stable/user_guide/indexing.html#returning-a-view-versus-a-copy\n",
      "  datatest['predik KNN']= modelknn.predict(xts)\n"
     ]
    },
    {
     "data": {
      "text/html": [
       "<div>\n",
       "<style scoped>\n",
       "    .dataframe tbody tr th:only-of-type {\n",
       "        vertical-align: middle;\n",
       "    }\n",
       "\n",
       "    .dataframe tbody tr th {\n",
       "        vertical-align: top;\n",
       "    }\n",
       "\n",
       "    .dataframe thead th {\n",
       "        text-align: right;\n",
       "    }\n",
       "</style>\n",
       "<table border=\"1\" class=\"dataframe\">\n",
       "  <thead>\n",
       "    <tr style=\"text-align: right;\">\n",
       "      <th></th>\n",
       "      <th>0</th>\n",
       "      <th>1</th>\n",
       "      <th>2</th>\n",
       "      <th>3</th>\n",
       "      <th>4</th>\n",
       "      <th>target actual</th>\n",
       "      <th>predik LogReg</th>\n",
       "      <th>predik RandomForest</th>\n",
       "      <th>predik KNN</th>\n",
       "    </tr>\n",
       "  </thead>\n",
       "  <tbody>\n",
       "    <tr>\n",
       "      <th>2383</th>\n",
       "      <td>-1.226609</td>\n",
       "      <td>-0.578993</td>\n",
       "      <td>-1.228505</td>\n",
       "      <td>-1.064885</td>\n",
       "      <td>-1.228999</td>\n",
       "      <td>0</td>\n",
       "      <td>0</td>\n",
       "      <td>0</td>\n",
       "      <td>0</td>\n",
       "    </tr>\n",
       "    <tr>\n",
       "      <th>1233</th>\n",
       "      <td>-0.996742</td>\n",
       "      <td>-0.305306</td>\n",
       "      <td>0.155673</td>\n",
       "      <td>-0.912047</td>\n",
       "      <td>-0.908233</td>\n",
       "      <td>0</td>\n",
       "      <td>0</td>\n",
       "      <td>0</td>\n",
       "      <td>0</td>\n",
       "    </tr>\n",
       "    <tr>\n",
       "      <th>6374</th>\n",
       "      <td>-0.766874</td>\n",
       "      <td>0.242068</td>\n",
       "      <td>0.084689</td>\n",
       "      <td>1.227680</td>\n",
       "      <td>0.855980</td>\n",
       "      <td>0</td>\n",
       "      <td>0</td>\n",
       "      <td>0</td>\n",
       "      <td>0</td>\n",
       "    </tr>\n",
       "    <tr>\n",
       "      <th>2019</th>\n",
       "      <td>-0.537007</td>\n",
       "      <td>0.789443</td>\n",
       "      <td>-0.092769</td>\n",
       "      <td>-1.098849</td>\n",
       "      <td>-0.707754</td>\n",
       "      <td>0</td>\n",
       "      <td>0</td>\n",
       "      <td>0</td>\n",
       "      <td>0</td>\n",
       "    </tr>\n",
       "    <tr>\n",
       "      <th>378</th>\n",
       "      <td>-0.766874</td>\n",
       "      <td>-1.400054</td>\n",
       "      <td>-1.618914</td>\n",
       "      <td>-0.606372</td>\n",
       "      <td>-1.028520</td>\n",
       "      <td>0</td>\n",
       "      <td>0</td>\n",
       "      <td>0</td>\n",
       "      <td>0</td>\n",
       "    </tr>\n",
       "  </tbody>\n",
       "</table>\n",
       "</div>"
      ],
      "text/plain": [
       "             0         1         2         3         4  target actual  \\\n",
       "2383 -1.226609 -0.578993 -1.228505 -1.064885 -1.228999              0   \n",
       "1233 -0.996742 -0.305306  0.155673 -0.912047 -0.908233              0   \n",
       "6374 -0.766874  0.242068  0.084689  1.227680  0.855980              0   \n",
       "2019 -0.537007  0.789443 -0.092769 -1.098849 -0.707754              0   \n",
       "378  -0.766874 -1.400054 -1.618914 -0.606372 -1.028520              0   \n",
       "\n",
       "      predik LogReg  predik RandomForest  predik KNN  \n",
       "2383              0                    0           0  \n",
       "1233              0                    0           0  \n",
       "6374              0                    0           0  \n",
       "2019              0                    0           0  \n",
       "378               0                    0           0  "
      ]
     },
     "execution_count": 33,
     "metadata": {},
     "output_type": "execute_result"
    }
   ],
   "source": [
    "datatest= xts\n",
    "datatest['target actual']= yts\n",
    "datatest.head(5)\n",
    "xts= xts.drop('target actual', axis=1)\n",
    "\n",
    "# xts\n",
    "\n",
    "datatest['predik LogReg']=modellogreg.predict(xts)\n",
    "datatest['predik RandomForest']= modelrf.predict(xts)\n",
    "datatest['predik KNN']= modelknn.predict(xts)\n",
    "datatest.head(5)"
   ]
  },
  {
   "cell_type": "markdown",
   "metadata": {},
   "source": [
    "### Evaluation Metrics\n",
    "\n",
    "- balanced accuracy, precision, recall, F1 score & ROC AUC score."
   ]
  },
  {
   "cell_type": "markdown",
   "metadata": {},
   "source": [
    "### 1. Logistic Regression"
   ]
  },
  {
   "cell_type": "code",
   "execution_count": 34,
   "metadata": {},
   "outputs": [
    {
     "name": "stdout",
     "output_type": "stream",
     "text": [
      "recall (+) = 0.36363636363636365\n",
      "recall (-) = 0.36363636363636365\n",
      "Precision (+) =  0.7058823529411765\n",
      "Precision (-) =  0.7058823529411765\n",
      "bAcc= 0.6802338979145063\n",
      "F1 Score (+) = 0.48000000000000004\n",
      "F1 Score (-) = 0.48000000000000004\n",
      "roc_auc_score = 0.6802338979145063\n"
     ]
    }
   ],
   "source": [
    "tplogreg, fnlogreg, fplogreg, tnlogreg = confusion_matrix(datatest['target actual'],datatest['predik LogReg']).ravel()\n",
    "tplogreg, fnlogreg,fplogreg,tnlogreg\n",
    "\n",
    "print('recall (+) =', recall_score(datatest['target actual'],datatest['predik LogReg']))\n",
    "print('recall (-) =', recall_score(datatest['target actual'],datatest['predik LogReg']))\n",
    "print('Precision (+) = ', precision_score(datatest['target actual'],datatest['predik LogReg']))\n",
    "print('Precision (-) = ', precision_score(datatest['target actual'],datatest['predik LogReg']))\n",
    "\n",
    "#Hitung Balanced Accuracy\n",
    "recallP = tplogreg/(tplogreg + fnlogreg)\n",
    "recallN = tnlogreg/(fplogreg+tnlogreg)\n",
    "bAcc= (recallP + recallN)/2\n",
    "print('bAcc=', bAcc)\n",
    "\n",
    "#Hitung F1 Score \n",
    "print('F1 Score (+) =', f1_score(datatest['target actual'],datatest['predik LogReg']))\n",
    "print('F1 Score (-) =', f1_score(datatest['target actual'],datatest['predik LogReg']))\n",
    "\n",
    "print('roc_auc_score =',roc_auc_score(datatest['target actual'],datatest['predik LogReg'].tolist(), average='macro', multi_class='ovo'))\n",
    "# np.array(yts.tolist()).shape"
   ]
  },
  {
   "cell_type": "markdown",
   "metadata": {},
   "source": [
    "### 2. Random Forest "
   ]
  },
  {
   "cell_type": "code",
   "execution_count": 35,
   "metadata": {},
   "outputs": [
    {
     "name": "stdout",
     "output_type": "stream",
     "text": [
      "recall (+) = 1.0\n",
      "recall (-) = 1.0\n",
      "Precision (+) =  1.0\n",
      "Precision (-) =  1.0\n",
      "bAcc= 1.0\n",
      "F1 Score (+) = 1.0\n",
      "F1 Score (-) = 1.0\n",
      "roc_auc_score = 1.0\n"
     ]
    }
   ],
   "source": [
    "tprf, fnrf, fprf, tnrf = confusion_matrix(datatest['target actual'],datatest['predik RandomForest']).ravel()\n",
    "tplogreg, fnlogreg,fplogreg,tnlogreg\n",
    "\n",
    "print('recall (+) =', recall_score(datatest['target actual'],datatest['predik RandomForest']))\n",
    "print('recall (-) =', recall_score(datatest['target actual'],datatest['predik RandomForest']))\n",
    "print('Precision (+) = ', precision_score(datatest['target actual'],datatest['predik RandomForest']))\n",
    "print('Precision (-) = ', precision_score(datatest['target actual'],datatest['predik RandomForest']))\n",
    "\n",
    "#Hitung Balanced Accuracy\n",
    "recallP = tprf/(tprf + fnrf)\n",
    "recallN = tnrf/(fprf+tnrf)\n",
    "bAcc= (recallP + recallN)/2\n",
    "print('bAcc=', bAcc)\n",
    "\n",
    "#Hitung F1 Score \n",
    "print('F1 Score (+) =', f1_score(datatest['target actual'],datatest['predik RandomForest']))\n",
    "print('F1 Score (-) =', f1_score(datatest['target actual'],datatest['predik RandomForest']))\n",
    "\n",
    "print('roc_auc_score =',roc_auc_score(datatest['target actual'],datatest['predik RandomForest'].tolist(), average='macro', multi_class='ovo'))\n",
    "# np.array(yts.tolist()).shape"
   ]
  },
  {
   "cell_type": "markdown",
   "metadata": {},
   "source": [
    "### 3. K-Nearest Neighbors "
   ]
  },
  {
   "cell_type": "code",
   "execution_count": 36,
   "metadata": {},
   "outputs": [
    {
     "name": "stdout",
     "output_type": "stream",
     "text": [
      "recall (+) = 0.6060606060606061\n",
      "recall (-) = 0.6060606060606061\n",
      "Precision (+) =  0.8695652173913043\n",
      "Precision (-) =  0.8695652173913043\n",
      "bAcc= 1.0\n",
      "F1 Score (+) = 0.7142857142857143\n",
      "F1 Score (-) = 0.7142857142857143\n",
      "roc_auc_score = 0.8020797326880977\n"
     ]
    }
   ],
   "source": [
    "tpknn, fnknn, fpknn, tnknn = confusion_matrix(datatest['target actual'],datatest['predik KNN']).ravel()\n",
    "tpknn, fnknn,fpknn,tnknn\n",
    "\n",
    "print('recall (+) =', recall_score(datatest['target actual'],datatest['predik KNN']))\n",
    "print('recall (-) =', recall_score(datatest['target actual'],datatest['predik KNN']))\n",
    "print('Precision (+) = ', precision_score(datatest['target actual'],datatest['predik KNN']))\n",
    "print('Precision (-) = ', precision_score(datatest['target actual'],datatest['predik KNN']))\n",
    "\n",
    "#Hitung Balanced Accuracy\n",
    "recallP = tprf/(tprf + fnrf)\n",
    "recallN = tnrf/(fprf+tnrf)\n",
    "bAcc= (recallP + recallN)/2\n",
    "print('bAcc=', bAcc)\n",
    "\n",
    "#Hitung F1 Score \n",
    "print('F1 Score (+) =', f1_score(datatest['target actual'],datatest['predik KNN']))\n",
    "print('F1 Score (-) =', f1_score(datatest['target actual'],datatest['predik KNN']))\n",
    "\n",
    "print('roc_auc_score =',roc_auc_score(datatest['target actual'],datatest['predik KNN'].tolist(), average='macro', multi_class='ovo'))\n",
    "# np.array(yts.tolist()).shape"
   ]
  },
  {
   "cell_type": "markdown",
   "metadata": {},
   "source": [
    "### Prediksi Pemain"
   ]
  },
  {
   "cell_type": "code",
   "execution_count": 37,
   "metadata": {},
   "outputs": [
    {
     "data": {
      "text/html": [
       "<div>\n",
       "<style scoped>\n",
       "    .dataframe tbody tr th:only-of-type {\n",
       "        vertical-align: middle;\n",
       "    }\n",
       "\n",
       "    .dataframe tbody tr th {\n",
       "        vertical-align: top;\n",
       "    }\n",
       "\n",
       "    .dataframe thead th {\n",
       "        text-align: right;\n",
       "    }\n",
       "</style>\n",
       "<table border=\"1\" class=\"dataframe\">\n",
       "  <thead>\n",
       "    <tr style=\"text-align: right;\">\n",
       "      <th></th>\n",
       "      <th>Name</th>\n",
       "      <th>Club</th>\n",
       "      <th>Country</th>\n",
       "      <th>Age</th>\n",
       "      <th>Height</th>\n",
       "      <th>Weight</th>\n",
       "      <th>Avg Points</th>\n",
       "      <th>Avg Rebounds</th>\n",
       "    </tr>\n",
       "  </thead>\n",
       "  <tbody>\n",
       "    <tr>\n",
       "      <th>0</th>\n",
       "      <td>Andakara Prastawa Dyaksa</td>\n",
       "      <td>Pelita Jaya Bakrie</td>\n",
       "      <td>Indonesia</td>\n",
       "      <td>24</td>\n",
       "      <td>190</td>\n",
       "      <td>90</td>\n",
       "      <td>7</td>\n",
       "      <td>6</td>\n",
       "    </tr>\n",
       "    <tr>\n",
       "      <th>1</th>\n",
       "      <td>Reggie Mononimbar</td>\n",
       "      <td>Pelita Jaya Bakrie</td>\n",
       "      <td>Indonesia</td>\n",
       "      <td>21</td>\n",
       "      <td>185</td>\n",
       "      <td>86</td>\n",
       "      <td>6</td>\n",
       "      <td>3</td>\n",
       "    </tr>\n",
       "    <tr>\n",
       "      <th>2</th>\n",
       "      <td>Hardianus Lakudu</td>\n",
       "      <td>Satria Muda Pertamina Jakarta</td>\n",
       "      <td>Indonesia</td>\n",
       "      <td>23</td>\n",
       "      <td>178</td>\n",
       "      <td>83</td>\n",
       "      <td>10</td>\n",
       "      <td>3</td>\n",
       "    </tr>\n",
       "    <tr>\n",
       "      <th>3</th>\n",
       "      <td>Kevin Yonas Sitorus</td>\n",
       "      <td>Satria Muda Pertamina Jakarta</td>\n",
       "      <td>Indonesia</td>\n",
       "      <td>26</td>\n",
       "      <td>185</td>\n",
       "      <td>75</td>\n",
       "      <td>11</td>\n",
       "      <td>4</td>\n",
       "    </tr>\n",
       "    <tr>\n",
       "      <th>4</th>\n",
       "      <td>Arki Dikania Wisnu</td>\n",
       "      <td>Satria Muda Pertamina Jakarta</td>\n",
       "      <td>Indonesia</td>\n",
       "      <td>20</td>\n",
       "      <td>183</td>\n",
       "      <td>80</td>\n",
       "      <td>5</td>\n",
       "      <td>2</td>\n",
       "    </tr>\n",
       "    <tr>\n",
       "      <th>5</th>\n",
       "      <td>Laurentius Steven Oei</td>\n",
       "      <td>Satria Muda Pertamina Jakarta</td>\n",
       "      <td>Indonesia</td>\n",
       "      <td>21</td>\n",
       "      <td>191</td>\n",
       "      <td>85</td>\n",
       "      <td>4</td>\n",
       "      <td>10</td>\n",
       "    </tr>\n",
       "    <tr>\n",
       "      <th>6</th>\n",
       "      <td>Mei Joni</td>\n",
       "      <td>Stapac</td>\n",
       "      <td>Indonesia</td>\n",
       "      <td>25</td>\n",
       "      <td>188</td>\n",
       "      <td>90</td>\n",
       "      <td>7</td>\n",
       "      <td>5</td>\n",
       "    </tr>\n",
       "    <tr>\n",
       "      <th>7</th>\n",
       "      <td>Vincent Rivaldi Kosasih</td>\n",
       "      <td>Stapac</td>\n",
       "      <td>Indonesia</td>\n",
       "      <td>23</td>\n",
       "      <td>179</td>\n",
       "      <td>87</td>\n",
       "      <td>1</td>\n",
       "      <td>2</td>\n",
       "    </tr>\n",
       "    <tr>\n",
       "      <th>8</th>\n",
       "      <td>Hardian Wicaksono</td>\n",
       "      <td>Pacific Caesar Surabaya</td>\n",
       "      <td>Indonesia</td>\n",
       "      <td>21</td>\n",
       "      <td>177</td>\n",
       "      <td>80</td>\n",
       "      <td>9</td>\n",
       "      <td>8</td>\n",
       "    </tr>\n",
       "    <tr>\n",
       "      <th>9</th>\n",
       "      <td>Brandon Jawato</td>\n",
       "      <td>Louvre Surabaya</td>\n",
       "      <td>Indonesia</td>\n",
       "      <td>24</td>\n",
       "      <td>182</td>\n",
       "      <td>85</td>\n",
       "      <td>6</td>\n",
       "      <td>5</td>\n",
       "    </tr>\n",
       "  </tbody>\n",
       "</table>\n",
       "</div>"
      ],
      "text/plain": [
       "                       Name                            Club     Country   Age  \\\n",
       "0  Andakara Prastawa Dyaksa              Pelita Jaya Bakrie   Indonesia    24   \n",
       "1         Reggie Mononimbar              Pelita Jaya Bakrie   Indonesia    21   \n",
       "2          Hardianus Lakudu   Satria Muda Pertamina Jakarta   Indonesia    23   \n",
       "3       Kevin Yonas Sitorus   Satria Muda Pertamina Jakarta   Indonesia    26   \n",
       "4        Arki Dikania Wisnu   Satria Muda Pertamina Jakarta   Indonesia    20   \n",
       "5     Laurentius Steven Oei   Satria Muda Pertamina Jakarta   Indonesia    21   \n",
       "6                  Mei Joni                          Stapac   Indonesia    25   \n",
       "7   Vincent Rivaldi Kosasih                          Stapac   Indonesia    23   \n",
       "8         Hardian Wicaksono         Pacific Caesar Surabaya   Indonesia    21   \n",
       "9            Brandon Jawato                 Louvre Surabaya   Indonesia    24   \n",
       "\n",
       "    Height   Weight   Avg Points   Avg Rebounds  \n",
       "0      190       90            7              6  \n",
       "1      185       86            6              3  \n",
       "2      178       83           10              3  \n",
       "3      185       75           11              4  \n",
       "4      183       80            5              2  \n",
       "5      191       85            4             10  \n",
       "6      188       90            7              5  \n",
       "7      179       87            1              2  \n",
       "8      177       80            9              8  \n",
       "9      182       85            6              5  "
      ]
     },
     "execution_count": 37,
     "metadata": {},
     "output_type": "execute_result"
    }
   ],
   "source": [
    "dataPemain = pd.read_csv('pemainIndo.csv', delimiter=';')\n",
    "dataPemain"
   ]
  },
  {
   "cell_type": "markdown",
   "metadata": {},
   "source": [
    "### Standarisasi Data"
   ]
  },
  {
   "cell_type": "code",
   "execution_count": 38,
   "metadata": {},
   "outputs": [
    {
     "data": {
      "text/plain": [
       "array([[ 0.63599873,  1.32911403,  1.31632171,  0.14285714,  0.48349378],\n",
       "       [-0.95399809,  0.25724788,  0.42390021, -0.21428571, -0.72524067],\n",
       "       [ 0.10599979, -1.24336474, -0.24541591,  1.21428571, -0.72524067],\n",
       "       [ 1.69599661,  0.25724788, -2.0302589 ,  1.57142857, -0.32232919],\n",
       "       [-1.48399703, -0.17149859, -0.91473203, -0.57142857, -1.12815215],\n",
       "       [-0.95399809,  1.54348727,  0.20079484, -0.92857143,  2.09513971],\n",
       "       [ 1.16599767,  0.90036757,  1.31632171,  0.14285714,  0.0805823 ],\n",
       "       [ 0.10599979, -1.02899151,  0.64700558, -2.        , -1.12815215],\n",
       "       [-0.95399809, -1.45773797, -0.91473203,  0.85714286,  1.28931674],\n",
       "       [ 0.63599873, -0.38587182,  0.20079484, -0.21428571,  0.0805823 ]])"
      ]
     },
     "execution_count": 38,
     "metadata": {},
     "output_type": "execute_result"
    }
   ],
   "source": [
    "dataPemaintest = dataPemain[[' Age',' Height', ' Weight', ' Avg Points', ' Avg Rebounds']]\n",
    "\n",
    "stdscalertest = StandardScaler()\n",
    "\n",
    "datastdtest = stdscalertest.fit_transform(dataPemaintest)\n",
    "datastdtest"
   ]
  },
  {
   "cell_type": "code",
   "execution_count": 39,
   "metadata": {},
   "outputs": [
    {
     "data": {
      "text/html": [
       "<div>\n",
       "<style scoped>\n",
       "    .dataframe tbody tr th:only-of-type {\n",
       "        vertical-align: middle;\n",
       "    }\n",
       "\n",
       "    .dataframe tbody tr th {\n",
       "        vertical-align: top;\n",
       "    }\n",
       "\n",
       "    .dataframe thead th {\n",
       "        text-align: right;\n",
       "    }\n",
       "</style>\n",
       "<table border=\"1\" class=\"dataframe\">\n",
       "  <thead>\n",
       "    <tr style=\"text-align: right;\">\n",
       "      <th></th>\n",
       "      <th>Name</th>\n",
       "      <th>Club</th>\n",
       "      <th>Country</th>\n",
       "      <th>Age</th>\n",
       "      <th>Height</th>\n",
       "      <th>Weight</th>\n",
       "      <th>Avg Points</th>\n",
       "      <th>Avg Rebounds</th>\n",
       "      <th>predict</th>\n",
       "    </tr>\n",
       "  </thead>\n",
       "  <tbody>\n",
       "    <tr>\n",
       "      <th>0</th>\n",
       "      <td>Andakara Prastawa Dyaksa</td>\n",
       "      <td>Pelita Jaya Bakrie</td>\n",
       "      <td>Indonesia</td>\n",
       "      <td>24</td>\n",
       "      <td>190</td>\n",
       "      <td>90</td>\n",
       "      <td>7</td>\n",
       "      <td>6</td>\n",
       "      <td>0</td>\n",
       "    </tr>\n",
       "    <tr>\n",
       "      <th>1</th>\n",
       "      <td>Reggie Mononimbar</td>\n",
       "      <td>Pelita Jaya Bakrie</td>\n",
       "      <td>Indonesia</td>\n",
       "      <td>21</td>\n",
       "      <td>185</td>\n",
       "      <td>86</td>\n",
       "      <td>6</td>\n",
       "      <td>3</td>\n",
       "      <td>0</td>\n",
       "    </tr>\n",
       "    <tr>\n",
       "      <th>2</th>\n",
       "      <td>Hardianus Lakudu</td>\n",
       "      <td>Satria Muda Pertamina Jakarta</td>\n",
       "      <td>Indonesia</td>\n",
       "      <td>23</td>\n",
       "      <td>178</td>\n",
       "      <td>83</td>\n",
       "      <td>10</td>\n",
       "      <td>3</td>\n",
       "      <td>0</td>\n",
       "    </tr>\n",
       "    <tr>\n",
       "      <th>3</th>\n",
       "      <td>Kevin Yonas Sitorus</td>\n",
       "      <td>Satria Muda Pertamina Jakarta</td>\n",
       "      <td>Indonesia</td>\n",
       "      <td>26</td>\n",
       "      <td>185</td>\n",
       "      <td>75</td>\n",
       "      <td>11</td>\n",
       "      <td>4</td>\n",
       "      <td>0</td>\n",
       "    </tr>\n",
       "    <tr>\n",
       "      <th>4</th>\n",
       "      <td>Arki Dikania Wisnu</td>\n",
       "      <td>Satria Muda Pertamina Jakarta</td>\n",
       "      <td>Indonesia</td>\n",
       "      <td>20</td>\n",
       "      <td>183</td>\n",
       "      <td>80</td>\n",
       "      <td>5</td>\n",
       "      <td>2</td>\n",
       "      <td>0</td>\n",
       "    </tr>\n",
       "    <tr>\n",
       "      <th>5</th>\n",
       "      <td>Laurentius Steven Oei</td>\n",
       "      <td>Satria Muda Pertamina Jakarta</td>\n",
       "      <td>Indonesia</td>\n",
       "      <td>21</td>\n",
       "      <td>191</td>\n",
       "      <td>85</td>\n",
       "      <td>4</td>\n",
       "      <td>10</td>\n",
       "      <td>0</td>\n",
       "    </tr>\n",
       "    <tr>\n",
       "      <th>6</th>\n",
       "      <td>Mei Joni</td>\n",
       "      <td>Stapac</td>\n",
       "      <td>Indonesia</td>\n",
       "      <td>25</td>\n",
       "      <td>188</td>\n",
       "      <td>90</td>\n",
       "      <td>7</td>\n",
       "      <td>5</td>\n",
       "      <td>0</td>\n",
       "    </tr>\n",
       "    <tr>\n",
       "      <th>7</th>\n",
       "      <td>Vincent Rivaldi Kosasih</td>\n",
       "      <td>Stapac</td>\n",
       "      <td>Indonesia</td>\n",
       "      <td>23</td>\n",
       "      <td>179</td>\n",
       "      <td>87</td>\n",
       "      <td>1</td>\n",
       "      <td>2</td>\n",
       "      <td>0</td>\n",
       "    </tr>\n",
       "    <tr>\n",
       "      <th>8</th>\n",
       "      <td>Hardian Wicaksono</td>\n",
       "      <td>Pacific Caesar Surabaya</td>\n",
       "      <td>Indonesia</td>\n",
       "      <td>21</td>\n",
       "      <td>177</td>\n",
       "      <td>80</td>\n",
       "      <td>9</td>\n",
       "      <td>8</td>\n",
       "      <td>1</td>\n",
       "    </tr>\n",
       "    <tr>\n",
       "      <th>9</th>\n",
       "      <td>Brandon Jawato</td>\n",
       "      <td>Louvre Surabaya</td>\n",
       "      <td>Indonesia</td>\n",
       "      <td>24</td>\n",
       "      <td>182</td>\n",
       "      <td>85</td>\n",
       "      <td>6</td>\n",
       "      <td>5</td>\n",
       "      <td>0</td>\n",
       "    </tr>\n",
       "  </tbody>\n",
       "</table>\n",
       "</div>"
      ],
      "text/plain": [
       "                       Name                            Club     Country   Age  \\\n",
       "0  Andakara Prastawa Dyaksa              Pelita Jaya Bakrie   Indonesia    24   \n",
       "1         Reggie Mononimbar              Pelita Jaya Bakrie   Indonesia    21   \n",
       "2          Hardianus Lakudu   Satria Muda Pertamina Jakarta   Indonesia    23   \n",
       "3       Kevin Yonas Sitorus   Satria Muda Pertamina Jakarta   Indonesia    26   \n",
       "4        Arki Dikania Wisnu   Satria Muda Pertamina Jakarta   Indonesia    20   \n",
       "5     Laurentius Steven Oei   Satria Muda Pertamina Jakarta   Indonesia    21   \n",
       "6                  Mei Joni                          Stapac   Indonesia    25   \n",
       "7   Vincent Rivaldi Kosasih                          Stapac   Indonesia    23   \n",
       "8         Hardian Wicaksono         Pacific Caesar Surabaya   Indonesia    21   \n",
       "9            Brandon Jawato                 Louvre Surabaya   Indonesia    24   \n",
       "\n",
       "    Height   Weight   Avg Points   Avg Rebounds  predict  \n",
       "0      190       90            7              6        0  \n",
       "1      185       86            6              3        0  \n",
       "2      178       83           10              3        0  \n",
       "3      185       75           11              4        0  \n",
       "4      183       80            5              2        0  \n",
       "5      191       85            4             10        0  \n",
       "6      188       90            7              5        0  \n",
       "7      179       87            1              2        0  \n",
       "8      177       80            9              8        1  \n",
       "9      182       85            6              5        0  "
      ]
     },
     "execution_count": 39,
     "metadata": {},
     "output_type": "execute_result"
    }
   ],
   "source": [
    "dataPemain['predict'] = modelrf.predict(datastdtest)\n",
    "dataPemain"
   ]
  },
  {
   "cell_type": "code",
   "execution_count": 40,
   "metadata": {},
   "outputs": [
    {
     "data": {
      "text/html": [
       "<div>\n",
       "<style scoped>\n",
       "    .dataframe tbody tr th:only-of-type {\n",
       "        vertical-align: middle;\n",
       "    }\n",
       "\n",
       "    .dataframe tbody tr th {\n",
       "        vertical-align: top;\n",
       "    }\n",
       "\n",
       "    .dataframe thead th {\n",
       "        text-align: right;\n",
       "    }\n",
       "</style>\n",
       "<table border=\"1\" class=\"dataframe\">\n",
       "  <thead>\n",
       "    <tr style=\"text-align: right;\">\n",
       "      <th></th>\n",
       "      <th>Name</th>\n",
       "      <th>Club</th>\n",
       "      <th>Country</th>\n",
       "      <th>Age</th>\n",
       "      <th>Height</th>\n",
       "      <th>Weight</th>\n",
       "      <th>Avg Points</th>\n",
       "      <th>Avg Rebounds</th>\n",
       "      <th>predict</th>\n",
       "      <th>keterangan</th>\n",
       "    </tr>\n",
       "  </thead>\n",
       "  <tbody>\n",
       "    <tr>\n",
       "      <th>0</th>\n",
       "      <td>Andakara Prastawa Dyaksa</td>\n",
       "      <td>Pelita Jaya Bakrie</td>\n",
       "      <td>Indonesia</td>\n",
       "      <td>24</td>\n",
       "      <td>190</td>\n",
       "      <td>90</td>\n",
       "      <td>7</td>\n",
       "      <td>6</td>\n",
       "      <td>0</td>\n",
       "      <td>tidak lolos</td>\n",
       "    </tr>\n",
       "    <tr>\n",
       "      <th>1</th>\n",
       "      <td>Reggie Mononimbar</td>\n",
       "      <td>Pelita Jaya Bakrie</td>\n",
       "      <td>Indonesia</td>\n",
       "      <td>21</td>\n",
       "      <td>185</td>\n",
       "      <td>86</td>\n",
       "      <td>6</td>\n",
       "      <td>3</td>\n",
       "      <td>0</td>\n",
       "      <td>tidak lolos</td>\n",
       "    </tr>\n",
       "    <tr>\n",
       "      <th>2</th>\n",
       "      <td>Hardianus Lakudu</td>\n",
       "      <td>Satria Muda Pertamina Jakarta</td>\n",
       "      <td>Indonesia</td>\n",
       "      <td>23</td>\n",
       "      <td>178</td>\n",
       "      <td>83</td>\n",
       "      <td>10</td>\n",
       "      <td>3</td>\n",
       "      <td>0</td>\n",
       "      <td>tidak lolos</td>\n",
       "    </tr>\n",
       "    <tr>\n",
       "      <th>3</th>\n",
       "      <td>Kevin Yonas Sitorus</td>\n",
       "      <td>Satria Muda Pertamina Jakarta</td>\n",
       "      <td>Indonesia</td>\n",
       "      <td>26</td>\n",
       "      <td>185</td>\n",
       "      <td>75</td>\n",
       "      <td>11</td>\n",
       "      <td>4</td>\n",
       "      <td>0</td>\n",
       "      <td>tidak lolos</td>\n",
       "    </tr>\n",
       "    <tr>\n",
       "      <th>4</th>\n",
       "      <td>Arki Dikania Wisnu</td>\n",
       "      <td>Satria Muda Pertamina Jakarta</td>\n",
       "      <td>Indonesia</td>\n",
       "      <td>20</td>\n",
       "      <td>183</td>\n",
       "      <td>80</td>\n",
       "      <td>5</td>\n",
       "      <td>2</td>\n",
       "      <td>0</td>\n",
       "      <td>tidak lolos</td>\n",
       "    </tr>\n",
       "    <tr>\n",
       "      <th>5</th>\n",
       "      <td>Laurentius Steven Oei</td>\n",
       "      <td>Satria Muda Pertamina Jakarta</td>\n",
       "      <td>Indonesia</td>\n",
       "      <td>21</td>\n",
       "      <td>191</td>\n",
       "      <td>85</td>\n",
       "      <td>4</td>\n",
       "      <td>10</td>\n",
       "      <td>0</td>\n",
       "      <td>tidak lolos</td>\n",
       "    </tr>\n",
       "    <tr>\n",
       "      <th>6</th>\n",
       "      <td>Mei Joni</td>\n",
       "      <td>Stapac</td>\n",
       "      <td>Indonesia</td>\n",
       "      <td>25</td>\n",
       "      <td>188</td>\n",
       "      <td>90</td>\n",
       "      <td>7</td>\n",
       "      <td>5</td>\n",
       "      <td>0</td>\n",
       "      <td>tidak lolos</td>\n",
       "    </tr>\n",
       "    <tr>\n",
       "      <th>7</th>\n",
       "      <td>Vincent Rivaldi Kosasih</td>\n",
       "      <td>Stapac</td>\n",
       "      <td>Indonesia</td>\n",
       "      <td>23</td>\n",
       "      <td>179</td>\n",
       "      <td>87</td>\n",
       "      <td>1</td>\n",
       "      <td>2</td>\n",
       "      <td>0</td>\n",
       "      <td>tidak lolos</td>\n",
       "    </tr>\n",
       "    <tr>\n",
       "      <th>8</th>\n",
       "      <td>Hardian Wicaksono</td>\n",
       "      <td>Pacific Caesar Surabaya</td>\n",
       "      <td>Indonesia</td>\n",
       "      <td>21</td>\n",
       "      <td>177</td>\n",
       "      <td>80</td>\n",
       "      <td>9</td>\n",
       "      <td>8</td>\n",
       "      <td>1</td>\n",
       "      <td>lolos</td>\n",
       "    </tr>\n",
       "    <tr>\n",
       "      <th>9</th>\n",
       "      <td>Brandon Jawato</td>\n",
       "      <td>Louvre Surabaya</td>\n",
       "      <td>Indonesia</td>\n",
       "      <td>24</td>\n",
       "      <td>182</td>\n",
       "      <td>85</td>\n",
       "      <td>6</td>\n",
       "      <td>5</td>\n",
       "      <td>0</td>\n",
       "      <td>tidak lolos</td>\n",
       "    </tr>\n",
       "  </tbody>\n",
       "</table>\n",
       "</div>"
      ],
      "text/plain": [
       "                       Name                            Club     Country   Age  \\\n",
       "0  Andakara Prastawa Dyaksa              Pelita Jaya Bakrie   Indonesia    24   \n",
       "1         Reggie Mononimbar              Pelita Jaya Bakrie   Indonesia    21   \n",
       "2          Hardianus Lakudu   Satria Muda Pertamina Jakarta   Indonesia    23   \n",
       "3       Kevin Yonas Sitorus   Satria Muda Pertamina Jakarta   Indonesia    26   \n",
       "4        Arki Dikania Wisnu   Satria Muda Pertamina Jakarta   Indonesia    20   \n",
       "5     Laurentius Steven Oei   Satria Muda Pertamina Jakarta   Indonesia    21   \n",
       "6                  Mei Joni                          Stapac   Indonesia    25   \n",
       "7   Vincent Rivaldi Kosasih                          Stapac   Indonesia    23   \n",
       "8         Hardian Wicaksono         Pacific Caesar Surabaya   Indonesia    21   \n",
       "9            Brandon Jawato                 Louvre Surabaya   Indonesia    24   \n",
       "\n",
       "    Height   Weight   Avg Points   Avg Rebounds  predict   keterangan  \n",
       "0      190       90            7              6        0  tidak lolos  \n",
       "1      185       86            6              3        0  tidak lolos  \n",
       "2      178       83           10              3        0  tidak lolos  \n",
       "3      185       75           11              4        0  tidak lolos  \n",
       "4      183       80            5              2        0  tidak lolos  \n",
       "5      191       85            4             10        0  tidak lolos  \n",
       "6      188       90            7              5        0  tidak lolos  \n",
       "7      179       87            1              2        0  tidak lolos  \n",
       "8      177       80            9              8        1        lolos  \n",
       "9      182       85            6              5        0  tidak lolos  "
      ]
     },
     "execution_count": 40,
     "metadata": {},
     "output_type": "execute_result"
    }
   ],
   "source": [
    "dataPemain['keterangan']=dataPemain.apply(lambda x: 'tidak lolos' if (x['predict']== 0) else ' lolos', axis=1)\n",
    "dataPemain"
   ]
  },
  {
   "cell_type": "code",
   "execution_count": null,
   "metadata": {},
   "outputs": [],
   "source": []
  }
 ],
 "metadata": {
  "kernelspec": {
   "display_name": "Python 3",
   "language": "python",
   "name": "python3"
  },
  "language_info": {
   "codemirror_mode": {
    "name": "ipython",
    "version": 3
   },
   "file_extension": ".py",
   "mimetype": "text/x-python",
   "name": "python",
   "nbconvert_exporter": "python",
   "pygments_lexer": "ipython3",
   "version": "3.8.0"
  }
 },
 "nbformat": 4,
 "nbformat_minor": 4
}
